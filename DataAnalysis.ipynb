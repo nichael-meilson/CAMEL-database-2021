{
 "cells": [
  {
   "cell_type": "markdown",
   "metadata": {
    "colab_type": "text",
    "id": "UDLYAucHqljw"
   },
   "source": [
    "Notebook for doing my data analysis for my Thesis on E. Coli mutation data from Experimental Evolution experiments sourced from AleDb"
   ]
  },
  {
   "cell_type": "markdown",
   "metadata": {
    "colab_type": "text",
    "id": "mhj06AspN2cP"
   },
   "source": [
    "# Set up"
   ]
  },
  {
   "cell_type": "markdown",
   "metadata": {
    "colab_type": "text",
    "id": "E7Y30zN1q1tq"
   },
   "source": [
    "Running packages"
   ]
  },
  {
   "cell_type": "code",
   "execution_count": null,
   "metadata": {
    "colab": {
     "base_uri": "https://localhost:8080/",
     "height": 73
    },
    "colab_type": "code",
    "id": "uveeSfFkqVci",
    "outputId": "232f6842-d866-4909-e4c2-8b697341a170"
   },
   "outputs": [],
   "source": [
    "import glob\n",
    "import pandas as pd\n",
    "import os\n",
    "import google.colab\n",
    "import numpy as np\n",
    "import matplotlib.pyplot as plt\n",
    "from Bio.SubsMat import MatrixInfo\n",
    "import scipy\n",
    "from sklearn import decomposition\n",
    "import seaborn"
   ]
  },
  {
   "cell_type": "markdown",
   "metadata": {
    "colab_type": "text",
    "id": "CXs84Ab69eaY"
   },
   "source": [
    "Uploading data from local to google collab server"
   ]
  },
  {
   "cell_type": "code",
   "execution_count": null,
   "metadata": {
    "colab": {
     "base_uri": "https://localhost:8080/",
     "height": 1000,
     "resources": {
      "http://localhost:8080/nbextensions/google.colab/files.js": {
       "data": "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",
       "headers": [
        [
         "content-type",
         "application/javascript"
        ]
       ],
       "ok": true,
       "status": 200,
       "status_text": "OK"
      }
     }
    },
    "colab_type": "code",
    "id": "aaRf-ary9Z5s",
    "outputId": "5befdbb4-04ee-4a50-b2be-1a4d8966ed29"
   },
   "outputs": [],
   "source": [
    "from google.colab import files\n",
    "uploaded = files.upload()"
   ]
  },
  {
   "cell_type": "markdown",
   "metadata": {
    "colab_type": "text",
    "id": "thSJq4FYN93t"
   },
   "source": [
    "# Making Dataframes"
   ]
  },
  {
   "cell_type": "markdown",
   "metadata": {
    "colab_type": "text",
    "id": "KeTZLQ2yq6ER"
   },
   "source": [
    "Collecting data for DataFrame from converted files on desktop"
   ]
  },
  {
   "cell_type": "code",
   "execution_count": null,
   "metadata": {
    "colab": {},
    "colab_type": "code",
    "id": "_hq7xhrvqy94"
   },
   "outputs": [],
   "source": [
    "df= pd.DataFrame()"
   ]
  },
  {
   "cell_type": "code",
   "execution_count": null,
   "metadata": {
    "colab": {},
    "colab_type": "code",
    "id": "K35t1OMurCLn"
   },
   "outputs": [],
   "source": [
    "experimentid = 1\n",
    "for file in uploaded.keys():\n",
    "    data = pd.read_excel(file, \"Sheet1\", header =4).assign(ExperimentID = experimentid)\n",
    "    df = df.append(data, ignore_index=True)\n",
    "    experimentid +=1\n"
   ]
  },
  {
   "cell_type": "code",
   "execution_count": null,
   "metadata": {
    "colab": {
     "base_uri": "https://localhost:8080/",
     "height": 652
    },
    "colab_type": "code",
    "id": "CYxkbUqTrEJz",
    "outputId": "7b035988-b308-491b-94d0-46ec0a103eb4"
   },
   "outputs": [],
   "source": [
    "df"
   ]
  },
  {
   "cell_type": "code",
   "execution_count": null,
   "metadata": {
    "colab": {},
    "colab_type": "code",
    "id": "8NFmR2vZDGm6"
   },
   "outputs": [],
   "source": [
    "# df.dtypes"
   ]
  },
  {
   "cell_type": "markdown",
   "metadata": {
    "colab_type": "text",
    "id": "W0NZy6quJyQQ"
   },
   "source": [
    "Check types of mutations to look for new types that need to be added to the conversion script."
   ]
  },
  {
   "cell_type": "code",
   "execution_count": null,
   "metadata": {
    "colab": {},
    "colab_type": "code",
    "id": "ZbetV5CvQmFl"
   },
   "outputs": [],
   "source": [
    "# dftest = df[df[\"TYPE\"] == \"CON\"]\n",
    "# print(dftest)"
   ]
  },
  {
   "cell_type": "code",
   "execution_count": null,
   "metadata": {
    "colab": {},
    "colab_type": "code",
    "id": "IYB1NMy1JzUP"
   },
   "outputs": [],
   "source": [
    "# df.groupby(\"TYPE\").count()"
   ]
  },
  {
   "cell_type": "markdown",
   "metadata": {
    "colab_type": "text",
    "id": "EW5wSdn-YfH_"
   },
   "source": [
    "Checking Chrom for different versions"
   ]
  },
  {
   "cell_type": "code",
   "execution_count": null,
   "metadata": {
    "colab": {
     "base_uri": "https://localhost:8080/",
     "height": 206
    },
    "colab_type": "code",
    "id": "kXJHmt20YgwM",
    "outputId": "3883de90-9491-45ec-da60-18f3664b9b41"
   },
   "outputs": [],
   "source": [
    "df.groupby(\"CHROM\").count()"
   ]
  },
  {
   "cell_type": "markdown",
   "metadata": {
    "colab_type": "text",
    "id": "GsI1bAqznlvP"
   },
   "source": [
    "Adding column to experiments for grouping them on severity of condition: 1 is severe, 2 is mild"
   ]
  },
  {
   "cell_type": "code",
   "execution_count": null,
   "metadata": {
    "colab": {},
    "colab_type": "code",
    "id": "PfdRtoMHnl3e"
   },
   "outputs": [],
   "source": [
    "condition = [2,2,1,1,1,2,1,1,1,1,1,1,1,1,1,1,1,1,1,1,1,1,2,2,2,2,2,2,2,1,2,2,1,1,2,2,2,2,2,2,2,2,1,1,1,1,1,1,1,1,1,1,1,1]\n",
    "df[\"Severity\"] = \"\"\n",
    "for i,row in df.iterrows():\n",
    "  df.at[i, \"Severity\"] = condition[(df.iloc[i][\"ExperimentID\"])-1]"
   ]
  },
  {
   "cell_type": "markdown",
   "metadata": {
    "colab_type": "text",
    "id": "sSIL0Y-9WxXY"
   },
   "source": [
    "# Some basic visualizations"
   ]
  },
  {
   "cell_type": "markdown",
   "metadata": {
    "colab_type": "text",
    "id": "kl7WFCiZv1Rs"
   },
   "source": [
    "Distribution of mutations for all experiments, do not need title."
   ]
  },
  {
   "cell_type": "code",
   "execution_count": null,
   "metadata": {
    "colab": {
     "base_uri": "https://localhost:8080/",
     "height": 483
    },
    "colab_type": "code",
    "id": "t5OQuA9lvmcg",
    "outputId": "a4e94179-9e32-44f6-e554-de11ba7f566f"
   },
   "outputs": [],
   "source": [
    "df[\"TYPE\"].value_counts().plot(kind = 'bar')\n",
    "print(df[\"TYPE\"].value_counts())"
   ]
  },
  {
   "cell_type": "markdown",
   "metadata": {
    "colab_type": "text",
    "id": "R-xgrEfr1O9N"
   },
   "source": [
    "For our analysis we are going to group all the Amplifications together"
   ]
  },
  {
   "cell_type": "code",
   "execution_count": null,
   "metadata": {
    "colab": {},
    "colab_type": "code",
    "id": "OXlm8_lR1TL4"
   },
   "outputs": [],
   "source": [
    "df = df.replace(to_replace= \"AMP2\", value = \"AMP\")\n",
    "df = df.replace(to_replace= \"AMP3\", value = \"AMP\")\n",
    "df = df.replace(to_replace= \"AMP4\", value = \"AMP\")\n",
    "df = df.replace(to_replace= \"AMP5\", value = \"AMP\")"
   ]
  },
  {
   "cell_type": "markdown",
   "metadata": {
    "colab_type": "text",
    "id": "SP2dp7e9Uqfc"
   },
   "source": [
    "We now remove CON and INV since there are so few they do not show up (15 and 3 respectively)"
   ]
  },
  {
   "cell_type": "code",
   "execution_count": null,
   "metadata": {
    "colab": {
     "base_uri": "https://localhost:8080/",
     "height": 35
    },
    "colab_type": "code",
    "id": "q9H6M24aUqsh",
    "outputId": "f9f0b38c-f222-48b9-ad0a-d17af838497f"
   },
   "outputs": [],
   "source": [
    "df = df[df.TYPE != \"CON\"]\n",
    "df = df.reset_index(drop=True)\n",
    "df = df[df.TYPE != \"INV\"]\n",
    "df = df.reset_index(drop=True)\n",
    "df = df[df.TYPE != \"REPL\"]\n",
    "df = df.reset_index(drop=True)\n",
    "print(df[\"TYPE\"].unique())"
   ]
  },
  {
   "cell_type": "code",
   "execution_count": null,
   "metadata": {
    "colab": {
     "base_uri": "https://localhost:8080/",
     "height": 206
    },
    "colab_type": "code",
    "id": "Gv3Cn30oVwpH",
    "outputId": "177e9464-07c3-4332-9b05-62e3a933b25d"
   },
   "outputs": [],
   "source": [
    "total = df[\"TYPE\"].value_counts().rename_axis('unique_values').reset_index(name='counts')\n",
    "total_valu =total['counts'].sum()\n",
    "total[\"Rel_Dist\"] = \"\"\n",
    "for i,row in total.iterrows():\n",
    "  total.at[i, \"Rel_Dist\"] = total.loc[i][\"counts\"] / total_valu\n",
    "total"
   ]
  },
  {
   "cell_type": "code",
   "execution_count": null,
   "metadata": {
    "colab": {
     "base_uri": "https://localhost:8080/",
     "height": 332
    },
    "colab_type": "code",
    "id": "Nwp-ICvaCjlo",
    "outputId": "1b4f4d98-31e4-4554-dd13-aca9c0047d31"
   },
   "outputs": [],
   "source": [
    "total = df[\"TYPE\"].value_counts().rename_axis('unique_values').reset_index(name='counts')\n",
    "total_valu =total['counts'].sum()\n",
    "# Make some labels.\n",
    "labels = []\n",
    "total[\"Rel_Dist\"] = \"\"\n",
    "for i,row in total.iterrows():\n",
    "  total.at[i, \"Rel_Dist\"] = total.loc[i][\"counts\"] / total_valu\n",
    "  labels.append(total.loc[i][\"counts\"])\n",
    "total.set_index(\"unique_values\",drop=False,inplace=True)\n",
    "print(labels)\n",
    "colors = {\"SNP\": '#41D3BD', \"DEL\": '#E63462', \"INS\": '#666A86', \"MNV\": '#C7EFCF', \"AMP\": '#EEF5DB'}\n",
    "types = list(colors.keys())\n",
    "ax = total['Rel_Dist'].plot(kind='bar', width = 1.0, x = 'unique_values', y = 'Rel_Dist', color=[colors[i] for i in total['unique_values']])\n",
    "# handles = [plt.Rectangle((0,0),1,1, color=colors[type]) for type in types]\n",
    "# plt.legend(handles, types, fontsize = 20)\n",
    "plt.xticks(fontsize = 15)\n",
    "plt.yticks(fontsize = 15)\n",
    "ax.set_xlabel(\"\")\n",
    "ax.set_ylim(0,1)\n",
    "ax.set_ylabel(\"Frequency\", fontsize = 20)"
   ]
  },
  {
   "cell_type": "markdown",
   "metadata": {
    "colab_type": "text",
    "id": "mJ-MTXhLR3AT"
   },
   "source": [
    "We can check this distribution for every experiment as well."
   ]
  },
  {
   "cell_type": "code",
   "execution_count": null,
   "metadata": {
    "colab": {},
    "colab_type": "code",
    "id": "vQfrce3vSB__"
   },
   "outputs": [],
   "source": [
    "Experiment_dataframes_all = []\n",
    "for experiment in df[\"ExperimentID\"].unique():\n",
    "  Experiment_dataframes_all.append(df[df[\"ExperimentID\"] ==experiment])\n",
    "pca_mutation_type_df = pd.DataFrame(columns = [\"SNP\", \"DEL\", \"INS\", \"MNV\", \"AMP\"])"
   ]
  },
  {
   "cell_type": "code",
   "execution_count": null,
   "metadata": {
    "colab": {
     "base_uri": "https://localhost:8080/",
     "height": 49
    },
    "colab_type": "code",
    "id": "DmqPj62Wpv7S",
    "outputId": "f7973bb2-fe34-466f-e168-6216038a31fc"
   },
   "outputs": [],
   "source": [
    "pca_mutation_type_df"
   ]
  },
  {
   "cell_type": "code",
   "execution_count": null,
   "metadata": {
    "colab": {
     "base_uri": "https://localhost:8080/",
     "height": 1000
    },
    "colab_type": "code",
    "id": "pZqu4Dn8R3SN",
    "outputId": "8007a6ff-19c9-483b-f3d4-9eb98fa12ec0"
   },
   "outputs": [],
   "source": [
    "fig = plt.figure()\n",
    "fig.set_figheight(30)\n",
    "fig.set_figwidth(30)\n",
    "# fig.suptitle('Types of Mutations per Experiment', fontsize=16)\n",
    "\n",
    "for experiment, num in zip(df[\"ExperimentID\"].unique(), range(1,55)):\n",
    "  ax = fig.add_subplot(11,5,num)\n",
    "  Experiment_data = df[df[\"ExperimentID\"] ==experiment]\n",
    "  total = Experiment_data[\"TYPE\"].value_counts().rename_axis('unique_values').reset_index(name='counts')\n",
    "  total_valu =total['counts'].sum()\n",
    "  total[\"Rel_Dist\"] = \"\"\n",
    "  values = [0,0,0,0,0]\n",
    "  for i,row in total.iterrows():\n",
    "    total.at[i, \"Rel_Dist\"] = total.loc[i][\"counts\"] / total_valu\n",
    "    if total.loc[i][\"unique_values\"] == \"SNP\":\n",
    "      values[0]= (total.loc[i][\"Rel_Dist\"])\n",
    "    elif total.loc[i][\"unique_values\"] == \"DEL\":\n",
    "      values[1] = total.loc[i][\"Rel_Dist\"]\n",
    "    elif total.loc[i][\"unique_values\"] == \"INS\":\n",
    "      values[2] = total.loc[i][\"Rel_Dist\"]\n",
    "    elif total.loc[i][\"unique_values\"] == \"MNV\":\n",
    "      values[3] = total.loc[i][\"Rel_Dist\"]\n",
    "    elif total.loc[i][\"unique_values\"] == \"AMP\":\n",
    "      values[4] = total.loc[i][\"Rel_Dist\"]\n",
    "  a_series = pd. Series(values, index = pca_mutation_type_df. columns)\n",
    "  pca_mutation_type_df = pca_mutation_type_df. append(a_series, ignore_index=True)  \n",
    "  colors = {\"SNP\": '#41D3BD', \"DEL\": '#E63462', \"INS\": '#666A86', \"MNV\": '#C7EFCF', \"AMP\": '#EEF5DB'}\n",
    "  types = list(colors.keys())\n",
    "  bx = total['Rel_Dist'].plot(kind='bar', width = 1.0, sharey=True, x = 'unique_values', y = 'Rel_Dist', color=[colors[i] for i in total['unique_values']])\n",
    "  # handles = [plt.Rectangle((0,0),1,1, color=colors[type]) for type in types]\n",
    "  # plt.legend(handles, types)\n",
    "  plt.xticks([])\n",
    "  bx.set_xlabel(\"\")\n",
    "  bx.set_ylim(0,1)\n",
    "  ax.set_title(experiment)\n",
    "# types = list(colors.keys())\n",
    "# handles = [plt.Rectangle((0,0),1,1, color=colors[type]) for type in types]\n",
    "# fig.legend(handles, types)\n",
    "fig.tight_layout()"
   ]
  },
  {
   "cell_type": "markdown",
   "metadata": {
    "colab_type": "text",
    "id": "MzP3IRYfi2JE"
   },
   "source": [
    "Looking at distributions through PCA to look for interesting different experiments. Make a dataframe with 6 columns? One for each type of mutation with the relative percent in it and do pca on this?"
   ]
  },
  {
   "cell_type": "code",
   "execution_count": null,
   "metadata": {
    "colab": {
     "base_uri": "https://localhost:8080/",
     "height": 1000
    },
    "colab_type": "code",
    "id": "CP-8a2rii2YB",
    "outputId": "412d2da0-8cbb-42eb-876c-913d3458a272"
   },
   "outputs": [],
   "source": [
    "pca_mutation_type_df"
   ]
  },
  {
   "cell_type": "code",
   "execution_count": null,
   "metadata": {
    "colab": {
     "base_uri": "https://localhost:8080/",
     "height": 262
    },
    "colab_type": "code",
    "id": "-QtYKHD3zy40",
    "outputId": "fac75d25-9836-4abe-83c8-bb8617445e36"
   },
   "outputs": [],
   "source": [
    "pca = decomposition.PCA(n_components=2)\n",
    "pca.fit(pca_mutation_type_df)\n",
    "x = pca.transform(pca_mutation_type_df)\n",
    "colors = []\n",
    "for i,row in pca_mutation_type_df.iterrows():\n",
    "  colors.append(condition[i-1])\n",
    "plt.scatter(x[:,0], x[:,1], s=40, c = colors, cmap = 'coolwarm')\n",
    "plt.xticks([])\n",
    "plt.yticks([])\n",
    "plt.xlabel(\"PC1\")\n",
    "plt.ylabel(\"PC2\")\n",
    "plt.show()"
   ]
  },
  {
   "cell_type": "markdown",
   "metadata": {
    "colab_type": "text",
    "id": "cVdmw4qeka4d"
   },
   "source": [
    "Look at types of mutations in a heatmap"
   ]
  },
  {
   "cell_type": "code",
   "execution_count": null,
   "metadata": {
    "colab": {
     "base_uri": "https://localhost:8080/",
     "height": 285
    },
    "colab_type": "code",
    "id": "haiosg67kbDb",
    "outputId": "bd94bb5d-79ae-4a21-f6c2-bf6f5e1c81ef"
   },
   "outputs": [],
   "source": [
    "index = list(pca_mutation_type_df.index.values)\n",
    "seaborn.heatmap(pca_mutation_type_df, cmap='coolwarm')\n",
    "plt.ylabel(\"Experiment\")"
   ]
  },
  {
   "cell_type": "code",
   "execution_count": null,
   "metadata": {
    "colab": {
     "base_uri": "https://localhost:8080/",
     "height": 317
    },
    "colab_type": "code",
    "id": "zahi19Zq2bZs",
    "outputId": "3a8abcf7-07fb-4275-fde7-876a21397d6e"
   },
   "outputs": [],
   "source": [
    "df.hist(column = 'TIME', bins = 20)"
   ]
  },
  {
   "cell_type": "markdown",
   "metadata": {
    "colab_type": "text",
    "id": "jy3nqSK58WNw"
   },
   "source": [
    "Want to get maximum experiment length in flask for each experiment to see experiment length comparisons\n",
    "\n",
    "A large number of the experiments only recorded one flask so we filter them out since it is an indefinite time"
   ]
  },
  {
   "cell_type": "code",
   "execution_count": null,
   "metadata": {
    "colab": {},
    "colab_type": "code",
    "id": "RykzsRbN8VlZ"
   },
   "outputs": [],
   "source": [
    "experiment_lengths = []\n",
    "experiments_with_one = []\n",
    "experiments_greaterthan200 = []\n",
    "experiment_min_values = []\n",
    "counter = 1\n",
    "while counter < 55:\n",
    "  experiment_df = df.loc[df[\"ExperimentID\"] == counter]\n",
    "  experiment_lengths.append(experiment_df[\"TIME\"].max())\n",
    "  experiment_min_values.append(experiment_df[\"TIME\"].min())\n",
    "  if experiment_df[\"TIME\"].max() == 1:\n",
    "    experiments_with_one.append(counter)\n",
    "  if experiment_df[\"TIME\"].max() > 200:\n",
    "    experiments_greaterthan200.append(counter)\n",
    "  counter +=1\n",
    "\n",
    "# print(experiment_lengths)\n",
    "# print(experiments_with_one)\n",
    "# print(experiments_greaterthan200)\n",
    "# print(experiment_min_values)"
   ]
  },
  {
   "cell_type": "markdown",
   "metadata": {
    "colab_type": "text",
    "id": "IOTmkX6HDSTl"
   },
   "source": [
    "Making new dataframe that tracks experiment ID, and max and min length for experiment by flask counts"
   ]
  },
  {
   "cell_type": "code",
   "execution_count": null,
   "metadata": {
    "colab": {},
    "colab_type": "code",
    "id": "zbWgjUyKDXmu"
   },
   "outputs": [],
   "source": [
    "Experiment_df = pd.DataFrame({\"ExperimentID\": list(range(1,55)), \"Min_Flask\": experiment_min_values, \"Max_Flask\": experiment_lengths})\n",
    "# print(Experiment_df)"
   ]
  },
  {
   "cell_type": "markdown",
   "metadata": {
    "colab_type": "text",
    "id": "-GBKADSQIOEt"
   },
   "source": [
    "Now we can do a graph showing the experiment length comparisons using flask number as a representation of time. Since a few of our experiments have an insanely high experiment length we need to group them and do a above x count to make the plot work better. We can try the count now at above 200 or could do even lower counts."
   ]
  },
  {
   "cell_type": "code",
   "execution_count": null,
   "metadata": {
    "colab": {
     "base_uri": "https://localhost:8080/",
     "height": 55
    },
    "colab_type": "code",
    "id": "DuOUzXFzKmhQ",
    "outputId": "33c964f5-0a3d-48ed-91d4-997e0f7fa171"
   },
   "outputs": [],
   "source": [
    "for i in range(len(experiment_lengths)):\n",
    "  if experiment_lengths[i] >= 200:\n",
    "    experiment_lengths[i] = 200\n",
    "print(experiment_lengths)   "
   ]
  },
  {
   "cell_type": "code",
   "execution_count": null,
   "metadata": {
    "colab": {
     "base_uri": "https://localhost:8080/",
     "height": 297
    },
    "colab_type": "code",
    "id": "3GaXCv03ITP1",
    "outputId": "8476e25a-0480-4fa5-c7da-3fd508a36faa"
   },
   "outputs": [],
   "source": [
    "plt.hist(experiment_lengths, bins = 20)\n",
    "plt.ylabel(\"Number of Experiments\")\n",
    "plt.xlabel(\"Number of Flasks\")\n",
    "# plt.title(\"Experiment Length in Flasks\")"
   ]
  },
  {
   "cell_type": "markdown",
   "metadata": {
    "colab_type": "text",
    "id": "WtJBDCdPEZN1"
   },
   "source": [
    "Now we trim our experiment list to remove experiments that only report 1 flask time, remove experiments that have a max value of 1 flask. Too difficult to do this as a dataframe because of the weird indexing so we will make it a dictionary."
   ]
  },
  {
   "cell_type": "code",
   "execution_count": null,
   "metadata": {
    "colab": {},
    "colab_type": "code",
    "id": "2LkEGR4UEshv"
   },
   "outputs": [],
   "source": [
    "for i,row in Experiment_df.iterrows():\n",
    "  if row[\"Min_Flask\"] == row[\"Max_Flask\"]:\n",
    "    Experiment_df = Experiment_df.drop(i)\n",
    "Experiment_df = Experiment_df.reset_index(drop=True)\n",
    "Experiment_dict = {}\n",
    "for i,row in Experiment_df.iterrows():\n",
    "  Experiment_dict[Experiment_df.iloc[i][\"ExperimentID\"]] = [Experiment_df.iloc[i][\"Min_Flask\"], Experiment_df.iloc[i][\"Max_Flask\"]]\n",
    "# print(Experiment_dict)\n",
    "# Experiment_df"
   ]
  },
  {
   "cell_type": "markdown",
   "metadata": {
    "colab_type": "text",
    "id": "KLoiDgH0OX-6"
   },
   "source": [
    "Next step is to create a new column in our dataframe we we use normalized flask values so 1 would be close to 0 and max value would be 1 so we can see how mutations accumulate over time. Need to make new dataframe with mutations that meet the above requirements."
   ]
  },
  {
   "cell_type": "code",
   "execution_count": null,
   "metadata": {
    "colab": {
     "base_uri": "https://localhost:8080/",
     "height": 424
    },
    "colab_type": "code",
    "id": "gJJsBzoqnRqC",
    "outputId": "93eff8cf-f71f-4c9c-9692-9c246ed96008"
   },
   "outputs": [],
   "source": [
    "IDs_tokeep = Experiment_df[\"ExperimentID\"].values\n",
    "Normalization_df = df.loc[df[\"ExperimentID\"].isin(IDs_tokeep)]\n",
    "Normalization_df = Normalization_df.reset_index(drop=True)\n",
    "Normalization_df\n"
   ]
  },
  {
   "cell_type": "markdown",
   "metadata": {
    "colab_type": "text",
    "id": "y-v9zY01v0c-"
   },
   "source": [
    "Here we create a new column for normalized time that gives the time point in the experiment. If there is 10 flasks in an experiment than at time 1 we know its 10% through the experiment."
   ]
  },
  {
   "cell_type": "code",
   "execution_count": null,
   "metadata": {
    "colab": {},
    "colab_type": "code",
    "id": "xqQXgNdWrTAY"
   },
   "outputs": [],
   "source": [
    "Normalization_df[\"Normalized_Time\"] = \"\"\n",
    "for i,row in Normalization_df.iterrows():\n",
    "  experimentid = Normalization_df.iloc[i][\"ExperimentID\"]\n",
    "  min_flask = Experiment_dict.get(experimentid)[0]\n",
    "  max_flask = Experiment_dict.get(experimentid)[1]\n",
    "  Normalization_df.at[i, \"Normalized_Time\"] = (Normalization_df.iloc[i][\"TIME\"] - min_flask) / (max_flask - min_flask)"
   ]
  },
  {
   "cell_type": "code",
   "execution_count": null,
   "metadata": {
    "colab": {
     "base_uri": "https://localhost:8080/",
     "height": 652
    },
    "colab_type": "code",
    "id": "yZrpJufovq7I",
    "outputId": "2bd209db-8d64-4f61-f6f1-53e1e3bda191"
   },
   "outputs": [],
   "source": [
    "Normalization_df"
   ]
  },
  {
   "cell_type": "code",
   "execution_count": null,
   "metadata": {
    "colab": {},
    "colab_type": "code",
    "id": "RIEhtJaGK6JJ"
   },
   "outputs": [],
   "source": [
    "yticks =Normalization_df[\"ExperimentID\"].unique()"
   ]
  },
  {
   "cell_type": "markdown",
   "metadata": {
    "colab_type": "text",
    "id": "2wPaeUO6vazP"
   },
   "source": [
    "Now that we have added a normalized value we can look at a density plot for mutations, like how many mutations are there occuring throughout an experiment. Do more mutations occur at the start or end?"
   ]
  },
  {
   "cell_type": "code",
   "execution_count": null,
   "metadata": {
    "colab": {
     "base_uri": "https://localhost:8080/",
     "height": 279
    },
    "colab_type": "code",
    "id": "XRGyMTqCvZo4",
    "outputId": "5dd271d0-8767-4c02-8138-32c55a8f0eb5"
   },
   "outputs": [],
   "source": [
    "times = Normalization_df[\"Normalized_Time\"].values\n",
    "weights = np.ones_like(times) / len(times)\n",
    "plt.hist(times, bins = 20, weights = weights)\n",
    "plt.ylabel(\"Percent of Mutations\")\n",
    "plt.xlabel(\"Relative time in Experiment\")\n",
    "newdf = pd.DataFrame(columns = [\"0-20\", \"20-40\", \"40-60\", \"60-80\", \"80-100\"])\n",
    "\n"
   ]
  },
  {
   "cell_type": "markdown",
   "metadata": {
    "colab_type": "text",
    "id": "OouB6gNtCLj9"
   },
   "source": [
    "Try doing this plot per experiment for comparisons. We start by making a list of the dataframes for each experiment."
   ]
  },
  {
   "cell_type": "code",
   "execution_count": null,
   "metadata": {
    "colab": {},
    "colab_type": "code",
    "id": "47O_Ic5vGDmn"
   },
   "outputs": [],
   "source": [
    "Experiment_dataframes = []\n",
    "for experiment in Experiment_df[\"ExperimentID\"].unique():\n",
    "  Experiment_dataframes.append(Normalization_df[Normalization_df[\"ExperimentID\"] ==experiment])"
   ]
  },
  {
   "cell_type": "code",
   "execution_count": null,
   "metadata": {
    "colab": {
     "base_uri": "https://localhost:8080/",
     "height": 1000
    },
    "colab_type": "code",
    "id": "plMh-QeACOe3",
    "outputId": "8cc3431f-cf07-4d38-e5bb-3d632f8dd116"
   },
   "outputs": [],
   "source": [
    "fig = plt.figure()\n",
    "fig.set_figheight(25)\n",
    "fig.set_figwidth(25)\n",
    "# fig.suptitle('Mutation accumulation per experiment', fontsize=16)\n",
    "for experiment, num in zip(Experiment_df[\"ExperimentID\"].unique(), range(1,30)):\n",
    "  ax = fig.add_subplot(5,6,num)\n",
    "  Experiment_data = Normalization_df[Normalization_df[\"ExperimentID\"] ==experiment]\n",
    "  times = Experiment_data[\"Normalized_Time\"].values\n",
    "  weights = np.ones_like(times) / len(times)\n",
    "  plt.hist(times, bins = 20, weights = weights)\n",
    "  ax.set_ylim([0,.8])\n",
    "  # plt.hist(Experiment_data[\"Normalized_Time\"], bins = 20, density = True)\n",
    "  ax.set_title(experiment)\n",
    "  # plt.ylabel(\"Number of Mutations\")\n",
    "  # plt.xlabel(\"Relative time in Experiment\")\n",
    "  # plt.title(\"Mutation occurrence throughout experiment\")\n",
    "  zeroto20 = 0\n",
    "  twentyoneto40= 0\n",
    "  fortyoneto60 = 0\n",
    "  sixty1to80 = 0\n",
    "  eighty1to100 = 0\n",
    "\n",
    "  for i in times:\n",
    "    if i <= .20:\n",
    "      zeroto20 +=1\n",
    "    elif .20 < i <= .40:\n",
    "      twentyoneto40 +=1\n",
    "    elif .40 < i <= .60:\n",
    "      fortyoneto60 +=1\n",
    "    elif .60 < i < .80:\n",
    "      sixty1to80 +=1\n",
    "    else:\n",
    "      eighty1to100 +=1\n",
    "  newdf = newdf.append({\"0-20\": zeroto20/len(times), \"20-40\": twentyoneto40/len(times), \"40-60\": fortyoneto60/len(times), \"60-80\": sixty1to80/len(times), \"80-100\": eighty1to100/len(times)}, ignore_index=True)\n",
    "fig.tight_layout"
   ]
  },
  {
   "cell_type": "code",
   "execution_count": null,
   "metadata": {
    "colab": {
     "base_uri": "https://localhost:8080/",
     "height": 535
    },
    "colab_type": "code",
    "id": "8TQTaAru7UvD",
    "outputId": "38c21977-3adb-4836-d674-08fe0de12339"
   },
   "outputs": [],
   "source": [
    "seaborn.set(rc={'figure.figsize':(11.7,8.27)})\n",
    "chart = seaborn.heatmap(newdf, cmap='coolwarm', yticklabels=yticks)\n",
    "chart.set_yticklabels(chart.get_yticklabels(),rotation=0)\n",
    "plt.ylabel(\"Experiment\")\n",
    "plt.xlabel(\"Relative time through Experiment\")"
   ]
  },
  {
   "cell_type": "markdown",
   "metadata": {
    "colab_type": "text",
    "id": "QAO9dnJDJWrJ"
   },
   "source": [
    "Here we are going to look at distribution of intergenic vs non intergenic mutations. Intergenic mutations are represented as NA in the Gene column so we can find the distribution by looking for non NA values in the GEN column."
   ]
  },
  {
   "cell_type": "code",
   "execution_count": null,
   "metadata": {
    "colab": {
     "base_uri": "https://localhost:8080/",
     "height": 518
    },
    "colab_type": "code",
    "id": "XDTz6uxQDhOJ",
    "outputId": "1d42f5d6-c96e-4353-f2ba-a33a08fdb0db"
   },
   "outputs": [],
   "source": [
    "Total_mutations = df.shape[0]\n",
    "Intergenic = df[\"GEN\"].isna().sum()\n",
    "Non_intergenic = Total_mutations - Intergenic\n",
    "Intergenic_perc = Intergenic/Total_mutations\n",
    "Non_perc = Non_intergenic/Total_mutations\n",
    "Intergenicdf = pd.DataFrame({'Type':['Intergenic', 'Non-intergenic'], 'Count':[Intergenic_perc, Non_perc]})\n",
    "ax = Intergenicdf.plot.bar(x='Type', y='Count', rot=0, legend = False)\n",
    "ax.set_xlabel(\"\")\n",
    "# plt.title(\"Distribution of Mutations\")"
   ]
  },
  {
   "cell_type": "markdown",
   "metadata": {
    "colab_type": "text",
    "id": "78huz6tmgKkX"
   },
   "source": [
    "To do this easier we can assign a column to each experiment having a 0 if intergenic and a 1 if not"
   ]
  },
  {
   "cell_type": "code",
   "execution_count": null,
   "metadata": {
    "colab": {},
    "colab_type": "code",
    "id": "U3C1r0S-gPf1"
   },
   "outputs": [],
   "source": [
    "df[\"Intergenic_or_not\"] = \"\"\n",
    "for i,row in df.iterrows():\n",
    "  if pd.isna(df.iloc[i][\"GEN\"]):\n",
    "    df.at[i, \"Intergenic_or_not\"] = 'Intergenic'\n",
    "  else:\n",
    "    df.at[i, \"Intergenic_or_not\"] = 'Non-intergenic'\n",
    "df[\"Intergenic_or_not\"] = df.Intergenic_or_not.astype('category')\n",
    "Intergenic_df_scatter = pd.DataFrame(columns = [\"Intergenic_perc\", \"Non-intergenic_perc\"])"
   ]
  },
  {
   "cell_type": "markdown",
   "metadata": {
    "colab_type": "text",
    "id": "iTHlszB1Uk9z"
   },
   "source": [
    "Here we can check each experiment individually."
   ]
  },
  {
   "cell_type": "code",
   "execution_count": null,
   "metadata": {
    "colab": {
     "base_uri": "https://localhost:8080/",
     "height": 1000
    },
    "colab_type": "code",
    "id": "HPYfWsMUUhN4",
    "outputId": "11ddcc66-7772-48f0-e1ea-19261422a3d9"
   },
   "outputs": [],
   "source": [
    "fig = plt.figure()\n",
    "fig.set_figheight(30)\n",
    "fig.set_figwidth(30)\n",
    "# fig.suptitle('Location of mutations per Experiment', fontsize=16)\n",
    "for experiment, num in zip(df[\"ExperimentID\"].unique(), range(1,55)): \n",
    "  ax = fig.add_subplot(8,7,num)\n",
    "  values = []\n",
    "  Experiment_data = df[df[\"ExperimentID\"] ==experiment]\n",
    "  total = Experiment_data[\"Intergenic_or_not\"].value_counts().rename_axis('unique_values').reset_index(name='counts')\n",
    "  total_valu =total['counts'].sum()\n",
    "  total[\"Rel_Dist\"] = \"\"\n",
    "  total.at[0, \"Rel_Dist\"] = total.loc[0][\"counts\"] / total_valu\n",
    "  total.at[1, \"Rel_Dist\"] = total.loc[1][\"counts\"] / total_valu\n",
    "  values.append(total.loc[0][\"Rel_Dist\"])\n",
    "  values.append(total.loc[1][\"Rel_Dist\"])\n",
    "  colors = {\"Non-intergenic\": 'r', \"Intergenic\": 'b'}\n",
    "  types = list(colors.keys())\n",
    "  ax = total['Rel_Dist'].plot(kind='bar', sharey=True, width = .5, x = 'unique_values', y = 'Rel_Dist', color=[colors[i] for i in total['unique_values']])\n",
    "  handles = [plt.Rectangle((0,0),1,1, color=colors[type]) for type in types]\n",
    "  plt.xticks([])\n",
    "  ax.set_xlabel(\"\")\n",
    "  ax.set_ylim(0,1)\n",
    "  ax.set_title(experiment)\n",
    "  a_series = pd. Series(values, index = Intergenic_df_scatter. columns)\n",
    "  Intergenic_df_scatter = Intergenic_df_scatter. append(a_series, ignore_index=True)\n",
    "# fig.legend(handles, types)\n",
    "fig.tight_layout()"
   ]
  },
  {
   "cell_type": "markdown",
   "metadata": {
    "colab_type": "text",
    "id": "qJpLQG3qDqoS"
   },
   "source": [
    "Now we want to check if some genes are more likely to be targets of mutations than others.First step is to remove NaNs, then to make mutations with multiple genes separated by a comma added."
   ]
  },
  {
   "cell_type": "markdown",
   "metadata": {
    "colab_type": "text",
    "id": "5uQQcI-4HitL"
   },
   "source": [
    "We can make a scatter plot of these values too to see in a different way how experiments are different."
   ]
  },
  {
   "cell_type": "code",
   "execution_count": null,
   "metadata": {
    "colab": {
     "base_uri": "https://localhost:8080/",
     "height": 1000
    },
    "colab_type": "code",
    "id": "puiMzMx3Hi13",
    "outputId": "af348b54-0c06-499d-b9b5-96931aaf76dd"
   },
   "outputs": [],
   "source": [
    "Intergenic_df_scatter"
   ]
  },
  {
   "cell_type": "code",
   "execution_count": null,
   "metadata": {
    "colab": {
     "base_uri": "https://localhost:8080/",
     "height": 535
    },
    "colab_type": "code",
    "id": "bM3aLGHNKGp1",
    "outputId": "a2941165-0896-4012-9813-2fea2cc87de0"
   },
   "outputs": [],
   "source": [
    "colors = []\n",
    "for i,row in pca_mutation_type_df.iterrows():\n",
    "  colors.append(condition[i-1])\n",
    "plt.scatter(Intergenic_df_scatter[\"Intergenic_perc\"], Intergenic_df_scatter[\"Non-intergenic_perc\"], c = colors, cmap = 'coolwarm')\n",
    "plt.xlabel(\"Percent Non-intergenic\")\n",
    "plt.ylabel(\"Percent Intergenic\")"
   ]
  },
  {
   "cell_type": "code",
   "execution_count": null,
   "metadata": {
    "colab": {},
    "colab_type": "code",
    "id": "_Ckn5Iw2JW2u"
   },
   "outputs": [],
   "source": [
    "genes = []\n",
    "Non_intergenic_mutations = df[df['GEN'].notna()]\n",
    "Non_intergenic_mutations = Non_intergenic_mutations.reset_index(drop=True)\n",
    "for i, row in Non_intergenic_mutations.iterrows():\n",
    "  if \",\" in Non_intergenic_mutations.iloc[i][\"GEN\"]:\n",
    "    gene_list = Non_intergenic_mutations.iloc[i][\"GEN\"].split(\",\")\n",
    "    for i in gene_list:\n",
    "        genes.append(i)\n",
    "  else:\n",
    "    genes.append(Non_intergenic_mutations.iloc[i][\"GEN\"])"
   ]
  },
  {
   "cell_type": "markdown",
   "metadata": {
    "colab_type": "text",
    "id": "lxU11hYHiJD0"
   },
   "source": [
    "Only include genes that appear more than one time.\n",
    "\n",
    "---\n",
    "\n"
   ]
  },
  {
   "cell_type": "code",
   "execution_count": null,
   "metadata": {
    "colab": {
     "base_uri": "https://localhost:8080/",
     "height": 539
    },
    "colab_type": "code",
    "id": "vmIDejt9OBTt",
    "outputId": "0fb72fa6-8250-41a5-c22c-02edde599920"
   },
   "outputs": [],
   "source": [
    "pd.Series(genes).value_counts()[lambda x : x>200].plot(kind = 'bar')\n",
    "#  figsize = (30,10)\n",
    "plt.ylabel(\"Count\")"
   ]
  },
  {
   "cell_type": "markdown",
   "metadata": {
    "colab_type": "text",
    "id": "vemlXaVqroyt"
   },
   "source": [
    "Next step is to use a blossum matrix to get a score for SNPs and the amino acid they change to. Can do two different approaches. First is look at all mutations with amino acid information in df and just plot the scores. Second is use normalization_df and look at scores relative to mutation time to see if more drastic changes happen at the start or end of the experiment. I will use the blossum 50 matrix for scoring."
   ]
  },
  {
   "cell_type": "code",
   "execution_count": null,
   "metadata": {
    "colab": {},
    "colab_type": "code",
    "id": "kf-p3_MVrpEy"
   },
   "outputs": [],
   "source": [
    "Aminoacid_df = df[df['∆AA'].notna()]\n",
    "Normalized_amino_df = Normalization_df[Normalization_df[\"∆AA\"].notna()]\n",
    "Aminoacid_df = Aminoacid_df.reset_index(drop=True)\n",
    "Normalized_amino_df = Normalized_amino_df.reset_index(drop=True)"
   ]
  },
  {
   "cell_type": "code",
   "execution_count": null,
   "metadata": {
    "colab": {
     "base_uri": "https://localhost:8080/",
     "height": 635
    },
    "colab_type": "code",
    "id": "AC5sZMR3a1v_",
    "outputId": "8ef83e39-287d-4c92-a293-c2df887d6fed"
   },
   "outputs": [],
   "source": [
    "Aminoacid_df"
   ]
  },
  {
   "cell_type": "markdown",
   "metadata": {
    "colab_type": "text",
    "id": "1ESWjzJLaqUO"
   },
   "source": [
    "Need to make nested dictionary for scoring values. Using Biopython Blosum50 matrix dictionary"
   ]
  },
  {
   "cell_type": "code",
   "execution_count": null,
   "metadata": {
    "colab": {},
    "colab_type": "code",
    "id": "3Zr4oeQ1lbo8"
   },
   "outputs": [],
   "source": [
    "# MatrixInfo.blosum50"
   ]
  },
  {
   "cell_type": "code",
   "execution_count": null,
   "metadata": {
    "colab": {},
    "colab_type": "code",
    "id": "8qjtoNrKatjW"
   },
   "outputs": [],
   "source": [
    "Aminoacid_df[\"AA1\"] = \"\"\n",
    "Aminoacid_df[\"AA2\"] = \"\"\n",
    "Aminoacid_df[\"Score\"] = \"\"\n",
    "for i,row in Aminoacid_df.iterrows():\n",
    "  AA1 = Aminoacid_df.iloc[i][\"∆AA\"][0].upper()\n",
    "  AA2 = Aminoacid_df.iloc[i][\"∆AA\"][-1].upper()\n",
    "  Aminoacid_df.at[i, \"AA1\"] = AA1\n",
    "  Aminoacid_df.at[i, \"AA2\"] = AA2\n",
    "Normalized_amino_df[\"AA1\"] = \"\"\n",
    "Normalized_amino_df[\"AA2\"] = \"\"\n",
    "for i,row in Normalized_amino_df.iterrows():\n",
    "  AA1 = Normalized_amino_df.iloc[i][\"∆AA\"][0].upper()\n",
    "  AA2 = Normalized_amino_df.iloc[i][\"∆AA\"][-1].upper()\n",
    "  Normalized_amino_df.at[i, \"AA1\"] = AA1\n",
    "  Normalized_amino_df.at[i, \"AA2\"] = AA2"
   ]
  },
  {
   "cell_type": "code",
   "execution_count": null,
   "metadata": {
    "colab": {},
    "colab_type": "code",
    "id": "m3g60N_w6j0W"
   },
   "outputs": [],
   "source": [
    "# Aminoacid_df"
   ]
  },
  {
   "cell_type": "code",
   "execution_count": null,
   "metadata": {
    "colab": {},
    "colab_type": "code",
    "id": "MNNUiGSp6l-9"
   },
   "outputs": [],
   "source": [
    "Aminoacid_df = Aminoacid_df[Aminoacid_df['AA1'] != '*']\n",
    "Aminoacid_df = Aminoacid_df[Aminoacid_df['AA2'] != '*']\n",
    "Aminoacid_df = Aminoacid_df.reset_index(drop=True)\n",
    "# Aminoacid_df"
   ]
  },
  {
   "cell_type": "code",
   "execution_count": null,
   "metadata": {
    "colab": {},
    "colab_type": "code",
    "id": "Y6jjyTsI36Dc"
   },
   "outputs": [],
   "source": [
    "Normalized_amino_df = Normalized_amino_df[Normalized_amino_df.AA1 != '*']\n",
    "Normalized_amino_df = Normalized_amino_df[Normalized_amino_df.AA2 != '*']\n",
    "\n",
    "Normalized_amino_df = Normalized_amino_df.reset_index(drop=True)\n",
    "\n",
    "for i,row in Aminoacid_df.iterrows():\n",
    "  AA1 = Aminoacid_df.iloc[i][\"∆AA\"][0].upper()\n",
    "  AA2 = Aminoacid_df.iloc[i][\"∆AA\"][-1].upper()\n",
    "  try:\n",
    "    Aminoacid_df.at[i, \"Score\"] = MatrixInfo.blosum50[AA1, AA2]\n",
    "  except:\n",
    "    Aminoacid_df.at[i, \"Score\"] = MatrixInfo.blosum50[AA2, AA1]\n",
    "for i,row in Normalized_amino_df.iterrows():\n",
    "  AA1 = Normalized_amino_df.iloc[i][\"∆AA\"][0].upper()\n",
    "  AA2 = Normalized_amino_df.iloc[i][\"∆AA\"][-1].upper()\n",
    "  try:\n",
    "    Normalized_amino_df.at[i, \"Score\"] = MatrixInfo.blosum50[AA1,AA2]\n",
    "  except:\n",
    "    Normalized_amino_df.at[i, \"Score\"] = MatrixInfo.blosum50[AA2,AA1]\n"
   ]
  },
  {
   "cell_type": "code",
   "execution_count": null,
   "metadata": {
    "colab": {},
    "colab_type": "code",
    "id": "fc1GJBhJ71lO"
   },
   "outputs": [],
   "source": [
    "# Aminoacid_df"
   ]
  },
  {
   "cell_type": "markdown",
   "metadata": {
    "colab_type": "text",
    "id": "CJx-CASF97Ei"
   },
   "source": [
    "Now we can graph this for all experiments and per experiment"
   ]
  },
  {
   "cell_type": "code",
   "execution_count": null,
   "metadata": {
    "colab": {
     "base_uri": "https://localhost:8080/",
     "height": 535
    },
    "colab_type": "code",
    "id": "Im8S3lTV9-Wo",
    "outputId": "0f06bb60-1cc6-42ec-a435-e031b693679e"
   },
   "outputs": [],
   "source": [
    "plt.hist(Aminoacid_df[\"Score\"], bins = 20)\n",
    "plt.ylabel(\"Number of Mutations\")\n",
    "plt.xlabel(\"Conservation Score\")\n",
    "plt.axvline(x=0,color='black',linestyle='--')\n"
   ]
  },
  {
   "cell_type": "code",
   "execution_count": null,
   "metadata": {
    "colab": {
     "base_uri": "https://localhost:8080/",
     "height": 1000
    },
    "colab_type": "code",
    "id": "C9TVZD0c-jof",
    "outputId": "f763ca88-8825-4959-8447-f8f72d77f7d6"
   },
   "outputs": [],
   "source": [
    "fig = plt.figure()\n",
    "fig.set_figheight(25)\n",
    "fig.set_figwidth(25)\n",
    "fig.suptitle('Conservation of Amino Acid Substitutions', fontsize=16)\n",
    "for experiment, num in zip(df[\"ExperimentID\"].unique(), range(1,55)):\n",
    "  ax = fig.add_subplot(8,7,num)\n",
    "  Experiment_data = Aminoacid_df[Aminoacid_df[\"ExperimentID\"] ==experiment]\n",
    "  plt.hist(Experiment_data[\"Score\"], bins = 20)\n",
    "  ax.set_title(experiment)\n",
    "  plt.axvline(x=0,color='black',linestyle='--')\n",
    "  # plt.ylabel(\"Number of Mutations\")\n",
    "  # plt.xlabel(\"Relative time in Experiment\")\n",
    "  # plt.title(\"Mutation occurrence throughout experiment\")"
   ]
  },
  {
   "cell_type": "markdown",
   "metadata": {
    "colab_type": "text",
    "id": "Kv474YQK_yUA"
   },
   "source": [
    "Now we can look at the normalized time dataframe to see conservation scores throughout the experiment. One way to do this is to split our data into two dataframes, one with mutations less than 50% through the experiment and the other greater."
   ]
  },
  {
   "cell_type": "code",
   "execution_count": null,
   "metadata": {
    "colab": {},
    "colab_type": "code",
    "id": "WLCKzba9_yjf"
   },
   "outputs": [],
   "source": [
    "First_half = Normalized_amino_df[Normalized_amino_df['Normalized_Time'] <= .50]\n",
    "Second_half = Normalized_amino_df[Normalized_amino_df['Normalized_Time'] > .50]\n",
    "First_half = First_half.reset_index(drop=True)\n",
    "Second_half = Second_half.reset_index(drop=True)"
   ]
  },
  {
   "cell_type": "code",
   "execution_count": null,
   "metadata": {
    "colab": {
     "base_uri": "https://localhost:8080/",
     "height": 535
    },
    "colab_type": "code",
    "id": "z8BeXduTGJMm",
    "outputId": "267b7aad-3a8b-4a04-f8a3-245e68da6064"
   },
   "outputs": [],
   "source": [
    "plt.subplot(1,2,1)\n",
    "plt.hist(First_half[\"Score\"], bins = 20)\n",
    "plt.ylabel(\"Number of Mutations\")\n",
    "plt.xlabel(\"Conservation Score\")\n",
    "plt.axvline(x=0,color='black',linestyle='--')\n",
    "\n",
    "# plt.title(\"Conservation of Amino Acid Substitutions\")\n",
    "\n",
    "ax = plt.subplot(1,2,2)\n",
    "plt.hist(Second_half[\"Score\"], bins = 20)\n",
    "# plt.ylabel(\"Number of Mutations\")\n",
    "plt.xlabel(\"Conservation Score\")\n",
    "ax.set_ylim(0,700)\n",
    "plt.yticks([])\n",
    "plt.axvline(x=0,color='black',linestyle='--')\n",
    "\n",
    "# plt.title(\"Conservation of Amino Acid Substitutions\")"
   ]
  },
  {
   "cell_type": "code",
   "execution_count": null,
   "metadata": {
    "colab": {},
    "colab_type": "code",
    "id": "lhCAvJ7aGPlQ"
   },
   "outputs": [],
   "source": [
    "# plt.hist(Second_half[\"Score\"], bins = 20)\n",
    "# plt.ylabel(\"Number of Mutations\")\n",
    "# plt.xlabel(\"Conservation Score\")\n",
    "# plt.title(\"Conservation of Amino Acid Substitutions\")"
   ]
  },
  {
   "cell_type": "markdown",
   "metadata": {
    "colab_type": "text",
    "id": "Yhncb39LGatP"
   },
   "source": [
    "We can also do this comparison for each experiment. But I can wait for Brams response and ask about this approach."
   ]
  },
  {
   "cell_type": "markdown",
   "metadata": {
    "colab_type": "text",
    "id": "klbU_4T7e3HG"
   },
   "source": [
    "# Looking at CAMEL database experiments"
   ]
  },
  {
   "cell_type": "markdown",
   "metadata": {
    "colab_type": "text",
    "id": "1e4H0o5ZKYZG"
   },
   "source": [
    "Breakdown of CAMEL database and WGS, 136 experiments using WGS out of 632 experiments."
   ]
  },
  {
   "cell_type": "code",
   "execution_count": null,
   "metadata": {
    "colab": {
     "base_uri": "https://localhost:8080/",
     "height": 541
    },
    "colab_type": "code",
    "id": "nh4CgnCcKXBo",
    "outputId": "d5c05481-92d3-4fb9-9e74-7c2b54229085"
   },
   "outputs": [],
   "source": [
    "WGS = 136\n",
    "Not = 632-136\n",
    "Total_count = 632\n",
    "WGS_perc = WGS/Total_count\n",
    "Not_perc = Not/Total_count\n",
    "WGSdf = pd.DataFrame({'Type':['WGS', 'Not WGS'], 'Count':[WGS_perc, Not_perc]})\n",
    "ax = WGSdf.plot.bar(x='Type', y='Count', rot=0, legend = False)\n",
    "ax.set_xlabel(\"\")\n",
    "plt.ylabel(\"Frequency\", fontsize = 20)\n",
    "plt.xticks(fontsize = 15)\n",
    "plt.yticks(fontsize = 15)\n",
    "# plt.title(\"Distribution of Mutations\")"
   ]
  },
  {
   "cell_type": "markdown",
   "metadata": {
    "colab_type": "text",
    "id": "g5vPeCldMtWR"
   },
   "source": [
    "WGS methods used in CAMEL"
   ]
  },
  {
   "cell_type": "code",
   "execution_count": null,
   "metadata": {
    "colab": {
     "base_uri": "https://localhost:8080/",
     "height": 507
    },
    "colab_type": "code",
    "id": "3WeC3BYdMtk5",
    "outputId": "a2cdd2f5-bd5e-41fa-ced1-f749196a5fe7"
   },
   "outputs": [],
   "source": [
    "WGSdf_tech = pd.DataFrame({'Technology':['Illumina', 'Hybridization array', 'Sanger', '454', 'Pacbio', 'NimbleGen', 'SOLiD', 'Ion Torrent'], 'Count':[114, 11, 9, 4, 3, 3, 2, 2]})\n",
    "\n",
    "colors = {'Illumina':'#41D3BD', 'Hybridization array':'#E63462', 'Sanger': '#666A86', '454': '#C7EFCF', \"Pacbio\": \"#EEF5DB\", \"NimbleGen\": '#067BC2', \"SOLiD\": '#84BCDA', \"Ion Torrent\": '#FFFC31'}         \n",
    "ax = WGSdf_tech.plot.bar(x='Technology', y='Count', rot=0, color=[colors[i] for i in WGSdf_tech['Technology']], width = 1)\n",
    "labels = list(colors.keys())\n",
    "handles = [plt.Rectangle((0,0),1,1, color=colors[label]) for label in labels]\n",
    "plt.legend(handles, labels, fontsize = 15)\n",
    "plt.xticks([])\n",
    "ax.set_xlabel(\"\")\n",
    "plt.yticks(fontsize = 15)\n",
    "plt.ylabel(\"Count\", fontsize = 20)\n"
   ]
  },
  {
   "cell_type": "markdown",
   "metadata": {
    "colab_type": "text",
    "id": "sh1tKCE5rK9j"
   },
   "source": [
    "Upload files for next parts"
   ]
  },
  {
   "cell_type": "code",
   "execution_count": null,
   "metadata": {
    "colab": {
     "base_uri": "https://localhost:8080/",
     "height": 217,
     "resources": {
      "http://localhost:8080/nbextensions/google.colab/files.js": {
       "data": "Ly8gQ29weXJpZ2h0IDIwMTcgR29vZ2xlIExMQwovLwovLyBMaWNlbnNlZCB1bmRlciB0aGUgQXBhY2hlIExpY2Vuc2UsIFZlcnNpb24gMi4wICh0aGUgIkxpY2Vuc2UiKTsKLy8geW91IG1heSBub3QgdXNlIHRoaXMgZmlsZSBleGNlcHQgaW4gY29tcGxpYW5jZSB3aXRoIHRoZSBMaWNlbnNlLgovLyBZb3UgbWF5IG9idGFpbiBhIGNvcHkgb2YgdGhlIExpY2Vuc2UgYXQKLy8KLy8gICAgICBodHRwOi8vd3d3LmFwYWNoZS5vcmcvbGljZW5zZXMvTElDRU5TRS0yLjAKLy8KLy8gVW5sZXNzIHJlcXVpcmVkIGJ5IGFwcGxpY2FibGUgbGF3IG9yIGFncmVlZCB0byBpbiB3cml0aW5nLCBzb2Z0d2FyZQovLyBkaXN0cmlidXRlZCB1bmRlciB0aGUgTGljZW5zZSBpcyBkaXN0cmlidXRlZCBvbiBhbiAiQVMgSVMiIEJBU0lTLAovLyBXSVRIT1VUIFdBUlJBTlRJRVMgT1IgQ09ORElUSU9OUyBPRiBBTlkgS0lORCwgZWl0aGVyIGV4cHJlc3Mgb3IgaW1wbGllZC4KLy8gU2VlIHRoZSBMaWNlbnNlIGZvciB0aGUgc3BlY2lmaWMgbGFuZ3VhZ2UgZ292ZXJuaW5nIHBlcm1pc3Npb25zIGFuZAovLyBsaW1pdGF0aW9ucyB1bmRlciB0aGUgTGljZW5zZS4KCi8qKgogKiBAZmlsZW92ZXJ2aWV3IEhlbHBlcnMgZm9yIGdvb2dsZS5jb2xhYiBQeXRob24gbW9kdWxlLgogKi8KKGZ1bmN0aW9uKHNjb3BlKSB7CmZ1bmN0aW9uIHNwYW4odGV4dCwgc3R5bGVBdHRyaWJ1dGVzID0ge30pIHsKICBjb25zdCBlbGVtZW50ID0gZG9jdW1lbnQuY3JlYXRlRWxlbWVudCgnc3BhbicpOwogIGVsZW1lbnQudGV4dENvbnRlbnQgPSB0ZXh0OwogIGZvciAoY29uc3Qga2V5IG9mIE9iamVjdC5rZXlzKHN0eWxlQXR0cmlidXRlcykpIHsKICAgIGVsZW1lbnQuc3R5bGVba2V5XSA9IHN0eWxlQXR0cmlidXRlc1trZXldOwogIH0KICByZXR1cm4gZWxlbWVudDsKfQoKLy8gTWF4IG51bWJlciBvZiBieXRlcyB3aGljaCB3aWxsIGJlIHVwbG9hZGVkIGF0IGEgdGltZS4KY29uc3QgTUFYX1BBWUxPQURfU0laRSA9IDEwMCAqIDEwMjQ7Ci8vIE1heCBhbW91bnQgb2YgdGltZSB0byBibG9jayB3YWl0aW5nIGZvciB0aGUgdXNlci4KY29uc3QgRklMRV9DSEFOR0VfVElNRU9VVF9NUyA9IDMwICogMTAwMDsKCmZ1bmN0aW9uIF91cGxvYWRGaWxlcyhpbnB1dElkLCBvdXRwdXRJZCkgewogIGNvbnN0IHN0ZXBzID0gdXBsb2FkRmlsZXNTdGVwKGlucHV0SWQsIG91dHB1dElkKTsKICBjb25zdCBvdXRwdXRFbGVtZW50ID0gZG9jdW1lbnQuZ2V0RWxlbWVudEJ5SWQob3V0cHV0SWQpOwogIC8vIENhY2hlIHN0ZXBzIG9uIHRoZSBvdXRwdXRFbGVtZW50IHRvIG1ha2UgaXQgYXZhaWxhYmxlIGZvciB0aGUgbmV4dCBjYWxsCiAgLy8gdG8gdXBsb2FkRmlsZXNDb250aW51ZSBmcm9tIFB5dGhvbi4KICBvdXRwdXRFbGVtZW50LnN0ZXBzID0gc3RlcHM7CgogIHJldHVybiBfdXBsb2FkRmlsZXNDb250aW51ZShvdXRwdXRJZCk7Cn0KCi8vIFRoaXMgaXMgcm91Z2hseSBhbiBhc3luYyBnZW5lcmF0b3IgKG5vdCBzdXBwb3J0ZWQgaW4gdGhlIGJyb3dzZXIgeWV0KSwKLy8gd2hlcmUgdGhlcmUgYXJlIG11bHRpcGxlIGFzeW5jaHJvbm91cyBzdGVwcyBhbmQgdGhlIFB5dGhvbiBzaWRlIGlzIGdvaW5nCi8vIHRvIHBvbGwgZm9yIGNvbXBsZXRpb24gb2YgZWFjaCBzdGVwLgovLyBUaGlzIHVzZXMgYSBQcm9taXNlIHRvIGJsb2NrIHRoZSBweXRob24gc2lkZSBvbiBjb21wbGV0aW9uIG9mIGVhY2ggc3RlcCwKLy8gdGhlbiBwYXNzZXMgdGhlIHJlc3VsdCBvZiB0aGUgcHJldmlvdXMgc3RlcCBhcyB0aGUgaW5wdXQgdG8gdGhlIG5leHQgc3RlcC4KZnVuY3Rpb24gX3VwbG9hZEZpbGVzQ29udGludWUob3V0cHV0SWQpIHsKICBjb25zdCBvdXRwdXRFbGVtZW50ID0gZG9jdW1lbnQuZ2V0RWxlbWVudEJ5SWQob3V0cHV0SWQpOwogIGNvbnN0IHN0ZXBzID0gb3V0cHV0RWxlbWVudC5zdGVwczsKCiAgY29uc3QgbmV4dCA9IHN0ZXBzLm5leHQob3V0cHV0RWxlbWVudC5sYXN0UHJvbWlzZVZhbHVlKTsKICByZXR1cm4gUHJvbWlzZS5yZXNvbHZlKG5leHQudmFsdWUucHJvbWlzZSkudGhlbigodmFsdWUpID0+IHsKICAgIC8vIENhY2hlIHRoZSBsYXN0IHByb21pc2UgdmFsdWUgdG8gbWFrZSBpdCBhdmFpbGFibGUgdG8gdGhlIG5leHQKICAgIC8vIHN0ZXAgb2YgdGhlIGdlbmVyYXRvci4KICAgIG91dHB1dEVsZW1lbnQubGFzdFByb21pc2VWYWx1ZSA9IHZhbHVlOwogICAgcmV0dXJuIG5leHQudmFsdWUucmVzcG9uc2U7CiAgfSk7Cn0KCi8qKgogKiBHZW5lcmF0b3IgZnVuY3Rpb24gd2hpY2ggaXMgY2FsbGVkIGJldHdlZW4gZWFjaCBhc3luYyBzdGVwIG9mIHRoZSB1cGxvYWQKICogcHJvY2Vzcy4KICogQHBhcmFtIHtzdHJpbmd9IGlucHV0SWQgRWxlbWVudCBJRCBvZiB0aGUgaW5wdXQgZmlsZSBwaWNrZXIgZWxlbWVudC4KICogQHBhcmFtIHtzdHJpbmd9IG91dHB1dElkIEVsZW1lbnQgSUQgb2YgdGhlIG91dHB1dCBkaXNwbGF5LgogKiBAcmV0dXJuIHshSXRlcmFibGU8IU9iamVjdD59IEl0ZXJhYmxlIG9mIG5leHQgc3RlcHMuCiAqLwpmdW5jdGlvbiogdXBsb2FkRmlsZXNTdGVwKGlucHV0SWQsIG91dHB1dElkKSB7CiAgY29uc3QgaW5wdXRFbGVtZW50ID0gZG9jdW1lbnQuZ2V0RWxlbWVudEJ5SWQoaW5wdXRJZCk7CiAgaW5wdXRFbGVtZW50LmRpc2FibGVkID0gZmFsc2U7CgogIGNvbnN0IG91dHB1dEVsZW1lbnQgPSBkb2N1bWVudC5nZXRFbGVtZW50QnlJZChvdXRwdXRJZCk7CiAgb3V0cHV0RWxlbWVudC5pbm5lckhUTUwgPSAnJzsKCiAgY29uc3QgcGlja2VkUHJvbWlzZSA9IG5ldyBQcm9taXNlKChyZXNvbHZlKSA9PiB7CiAgICBpbnB1dEVsZW1lbnQuYWRkRXZlbnRMaXN0ZW5lcignY2hhbmdlJywgKGUpID0+IHsKICAgICAgcmVzb2x2ZShlLnRhcmdldC5maWxlcyk7CiAgICB9KTsKICB9KTsKCiAgY29uc3QgY2FuY2VsID0gZG9jdW1lbnQuY3JlYXRlRWxlbWVudCgnYnV0dG9uJyk7CiAgaW5wdXRFbGVtZW50LnBhcmVudEVsZW1lbnQuYXBwZW5kQ2hpbGQoY2FuY2VsKTsKICBjYW5jZWwudGV4dENvbnRlbnQgPSAnQ2FuY2VsIHVwbG9hZCc7CiAgY29uc3QgY2FuY2VsUHJvbWlzZSA9IG5ldyBQcm9taXNlKChyZXNvbHZlKSA9PiB7CiAgICBjYW5jZWwub25jbGljayA9ICgpID0+IHsKICAgICAgcmVzb2x2ZShudWxsKTsKICAgIH07CiAgfSk7CgogIC8vIENhbmNlbCB1cGxvYWQgaWYgdXNlciBoYXNuJ3QgcGlja2VkIGFueXRoaW5nIGluIHRpbWVvdXQuCiAgY29uc3QgdGltZW91dFByb21pc2UgPSBuZXcgUHJvbWlzZSgocmVzb2x2ZSkgPT4gewogICAgc2V0VGltZW91dCgoKSA9PiB7CiAgICAgIHJlc29sdmUobnVsbCk7CiAgICB9LCBGSUxFX0NIQU5HRV9USU1FT1VUX01TKTsKICB9KTsKCiAgLy8gV2FpdCBmb3IgdGhlIHVzZXIgdG8gcGljayB0aGUgZmlsZXMuCiAgY29uc3QgZmlsZXMgPSB5aWVsZCB7CiAgICBwcm9taXNlOiBQcm9taXNlLnJhY2UoW3BpY2tlZFByb21pc2UsIHRpbWVvdXRQcm9taXNlLCBjYW5jZWxQcm9taXNlXSksCiAgICByZXNwb25zZTogewogICAgICBhY3Rpb246ICdzdGFydGluZycsCiAgICB9CiAgfTsKCiAgaWYgKCFmaWxlcykgewogICAgcmV0dXJuIHsKICAgICAgcmVzcG9uc2U6IHsKICAgICAgICBhY3Rpb246ICdjb21wbGV0ZScsCiAgICAgIH0KICAgIH07CiAgfQoKICBjYW5jZWwucmVtb3ZlKCk7CgogIC8vIERpc2FibGUgdGhlIGlucHV0IGVsZW1lbnQgc2luY2UgZnVydGhlciBwaWNrcyBhcmUgbm90IGFsbG93ZWQuCiAgaW5wdXRFbGVtZW50LmRpc2FibGVkID0gdHJ1ZTsKCiAgZm9yIChjb25zdCBmaWxlIG9mIGZpbGVzKSB7CiAgICBjb25zdCBsaSA9IGRvY3VtZW50LmNyZWF0ZUVsZW1lbnQoJ2xpJyk7CiAgICBsaS5hcHBlbmQoc3BhbihmaWxlLm5hbWUsIHtmb250V2VpZ2h0OiAnYm9sZCd9KSk7CiAgICBsaS5hcHBlbmQoc3BhbigKICAgICAgICBgKCR7ZmlsZS50eXBlIHx8ICduL2EnfSkgLSAke2ZpbGUuc2l6ZX0gYnl0ZXMsIGAgKwogICAgICAgIGBsYXN0IG1vZGlmaWVkOiAkewogICAgICAgICAgICBmaWxlLmxhc3RNb2RpZmllZERhdGUgPyBmaWxlLmxhc3RNb2RpZmllZERhdGUudG9Mb2NhbGVEYXRlU3RyaW5nKCkgOgogICAgICAgICAgICAgICAgICAgICAgICAgICAgICAgICAgICAnbi9hJ30gLSBgKSk7CiAgICBjb25zdCBwZXJjZW50ID0gc3BhbignMCUgZG9uZScpOwogICAgbGkuYXBwZW5kQ2hpbGQocGVyY2VudCk7CgogICAgb3V0cHV0RWxlbWVudC5hcHBlbmRDaGlsZChsaSk7CgogICAgY29uc3QgZmlsZURhdGFQcm9taXNlID0gbmV3IFByb21pc2UoKHJlc29sdmUpID0+IHsKICAgICAgY29uc3QgcmVhZGVyID0gbmV3IEZpbGVSZWFkZXIoKTsKICAgICAgcmVhZGVyLm9ubG9hZCA9IChlKSA9PiB7CiAgICAgICAgcmVzb2x2ZShlLnRhcmdldC5yZXN1bHQpOwogICAgICB9OwogICAgICByZWFkZXIucmVhZEFzQXJyYXlCdWZmZXIoZmlsZSk7CiAgICB9KTsKICAgIC8vIFdhaXQgZm9yIHRoZSBkYXRhIHRvIGJlIHJlYWR5LgogICAgbGV0IGZpbGVEYXRhID0geWllbGQgewogICAgICBwcm9taXNlOiBmaWxlRGF0YVByb21pc2UsCiAgICAgIHJlc3BvbnNlOiB7CiAgICAgICAgYWN0aW9uOiAnY29udGludWUnLAogICAgICB9CiAgICB9OwoKICAgIC8vIFVzZSBhIGNodW5rZWQgc2VuZGluZyB0byBhdm9pZCBtZXNzYWdlIHNpemUgbGltaXRzLiBTZWUgYi82MjExNTY2MC4KICAgIGxldCBwb3NpdGlvbiA9IDA7CiAgICB3aGlsZSAocG9zaXRpb24gPCBmaWxlRGF0YS5ieXRlTGVuZ3RoKSB7CiAgICAgIGNvbnN0IGxlbmd0aCA9IE1hdGgubWluKGZpbGVEYXRhLmJ5dGVMZW5ndGggLSBwb3NpdGlvbiwgTUFYX1BBWUxPQURfU0laRSk7CiAgICAgIGNvbnN0IGNodW5rID0gbmV3IFVpbnQ4QXJyYXkoZmlsZURhdGEsIHBvc2l0aW9uLCBsZW5ndGgpOwogICAgICBwb3NpdGlvbiArPSBsZW5ndGg7CgogICAgICBjb25zdCBiYXNlNjQgPSBidG9hKFN0cmluZy5mcm9tQ2hhckNvZGUuYXBwbHkobnVsbCwgY2h1bmspKTsKICAgICAgeWllbGQgewogICAgICAgIHJlc3BvbnNlOiB7CiAgICAgICAgICBhY3Rpb246ICdhcHBlbmQnLAogICAgICAgICAgZmlsZTogZmlsZS5uYW1lLAogICAgICAgICAgZGF0YTogYmFzZTY0LAogICAgICAgIH0sCiAgICAgIH07CiAgICAgIHBlcmNlbnQudGV4dENvbnRlbnQgPQogICAgICAgICAgYCR7TWF0aC5yb3VuZCgocG9zaXRpb24gLyBmaWxlRGF0YS5ieXRlTGVuZ3RoKSAqIDEwMCl9JSBkb25lYDsKICAgIH0KICB9CgogIC8vIEFsbCBkb25lLgogIHlpZWxkIHsKICAgIHJlc3BvbnNlOiB7CiAgICAgIGFjdGlvbjogJ2NvbXBsZXRlJywKICAgIH0KICB9Owp9CgpzY29wZS5nb29nbGUgPSBzY29wZS5nb29nbGUgfHwge307CnNjb3BlLmdvb2dsZS5jb2xhYiA9IHNjb3BlLmdvb2dsZS5jb2xhYiB8fCB7fTsKc2NvcGUuZ29vZ2xlLmNvbGFiLl9maWxlcyA9IHsKICBfdXBsb2FkRmlsZXMsCiAgX3VwbG9hZEZpbGVzQ29udGludWUsCn07Cn0pKHNlbGYpOwo=",
       "headers": [
        [
         "content-type",
         "application/javascript"
        ]
       ],
       "ok": true,
       "status": 200,
       "status_text": "OK"
      }
     }
    },
    "colab_type": "code",
    "id": "5AoRv68wfAWS",
    "outputId": "e04a71d6-c91f-4816-c4ff-971b92523a51"
   },
   "outputs": [],
   "source": [
    "uploaded2 = files.upload()"
   ]
  },
  {
   "cell_type": "markdown",
   "metadata": {
    "colab_type": "text",
    "id": "GyyR3X9kfAMd"
   },
   "source": [
    "First graph will be on number of lines in Experiment. Upload json results from API with number of lines per experiment"
   ]
  },
  {
   "cell_type": "code",
   "execution_count": null,
   "metadata": {
    "colab": {},
    "colab_type": "code",
    "id": "WB-JWmhnhzuk"
   },
   "outputs": [],
   "source": [
    "numlines = pd.read_json(\"/content/numberoflines.json\")"
   ]
  },
  {
   "cell_type": "code",
   "execution_count": null,
   "metadata": {
    "colab": {
     "base_uri": "https://localhost:8080/",
     "height": 235
    },
    "colab_type": "code",
    "id": "wb4qyxCxp3ek",
    "outputId": "6686cd3d-bf2c-417c-bc52-5a21af8c3716"
   },
   "outputs": [],
   "source": [
    "numlines = numlines[\"values\"]\n",
    "numlines"
   ]
  },
  {
   "cell_type": "code",
   "execution_count": null,
   "metadata": {
    "colab": {
     "base_uri": "https://localhost:8080/",
     "height": 564
    },
    "colab_type": "code",
    "id": "OTuvLcnEvDbH",
    "outputId": "7cfae46e-e505-478c-a68c-c114bdc66671"
   },
   "outputs": [],
   "source": [
    "linesdataframe = pd.DataFrame(columns = [\"Number of lines\", \"Count\"])\n",
    "for i in numlines:\n",
    "  linesdataframe = linesdataframe.append({\"Number of lines\": i[\"value\"], \"Count\": i[\"number\"]}, ignore_index=True)\n",
    "linesdataframe\n",
    "linevalues = []\n",
    "for i, row in linesdataframe.iterrows():\n",
    "  linevalues += [row[\"Number of lines\"]] * row[\"Count\"]\n",
    "#Make values greater than 200 = to 200 then have them say greater than 200.\n",
    "for idx, item in enumerate(linevalues):\n",
    "  if item > 200:\n",
    "    linevalues[idx] = 201\n",
    "plt.hist(linevalues)\n",
    "plt.ylabel(\"Experiments\", fontsize = 20)\n",
    "plt.xlabel(\"Number of Lines\", fontsize = 20)\n",
    "plt.xticks(fontsize = 15)\n",
    "plt.yticks(fontsize = 15)"
   ]
  },
  {
   "cell_type": "markdown",
   "metadata": {
    "colab_type": "text",
    "id": "3GCRDIwEfQit"
   },
   "source": [
    "Second is Experiment Length in days\n"
   ]
  },
  {
   "cell_type": "code",
   "execution_count": null,
   "metadata": {
    "colab": {
     "base_uri": "https://localhost:8080/",
     "height": 564
    },
    "colab_type": "code",
    "id": "gnvYUroOfQqC",
    "outputId": "eab59771-4d40-490d-bea1-e5017d60a0e2"
   },
   "outputs": [],
   "source": [
    "numdays = pd.read_json(\"/content/numberofdays.json\")\n",
    "numdays=numdays[\"values\"]\n",
    "daysdataframe = pd.DataFrame(columns = [\"Number of Days\", \"Count\"])\n",
    "for i in numdays:\n",
    "  daysdataframe = daysdataframe.append({\"Number of Days\": i[\"value\"], \"Count\": i[\"number\"]}, ignore_index=True)\n",
    "daysdataframe\n",
    "dayvalues = []\n",
    "for i, row in daysdataframe.iterrows():\n",
    "  dayvalues += [row[\"Number of Days\"]] * row[\"Count\"]\n",
    "#Make values greater than 200 = to 200 then have them say greater than 200.\n",
    "for idx, item in enumerate(dayvalues):\n",
    "  if item > 200:\n",
    "    dayvalues[idx] = 201\n",
    "plt.hist(dayvalues)\n",
    "plt.ylabel(\"Experiments\", fontsize = 20)\n",
    "plt.xlabel(\"Number of Days\", fontsize =20)\n",
    "plt.xticks(fontsize = 15)\n",
    "plt.yticks(fontsize = 15)"
   ]
  },
  {
   "cell_type": "markdown",
   "metadata": {
    "colab_type": "text",
    "id": "RqdFwml8fSuM"
   },
   "source": [
    "Third is Number of generations"
   ]
  },
  {
   "cell_type": "code",
   "execution_count": null,
   "metadata": {
    "colab": {
     "base_uri": "https://localhost:8080/",
     "height": 660
    },
    "colab_type": "code",
    "id": "r37T5dpgfS1N",
    "outputId": "bd8ef8a5-3344-4206-fca0-9091752bc52b"
   },
   "outputs": [],
   "source": [
    "numgens = pd.read_json(\"/content/generations.json\")\n",
    "numgens=numgens[\"values\"]\n",
    "gendataframe = pd.DataFrame(columns = [\"Number of Generations\", \"Count\"])\n",
    "for i in numgens:\n",
    "  gendataframe = gendataframe.append({\"Number of Generations\": i[\"value\"], \"Count\": i[\"number\"]}, ignore_index=True)\n",
    "genvalues = []\n",
    "for i, row in gendataframe.iterrows():\n",
    "  genvalues += [row[\"Number of Generations\"]] * int(row[\"Count\"])\n",
    "#Make values greater than 200 = to 200 then have them say greater than 200.\n",
    "for idx, item in enumerate(genvalues):\n",
    "  if item > 2000:\n",
    "    genvalues[idx] = 2001\n",
    "plt.hist(genvalues)\n",
    "plt.ylabel(\"Experiments\", fontsize = 20)\n",
    "plt.xlabel(\"Number of Generations\", fontsize = 20)\n",
    "plt.xticks(fontsize = 15, rotation = 90)\n",
    "plt.yticks(fontsize = 15)"
   ]
  },
  {
   "cell_type": "markdown",
   "metadata": {
    "colab_type": "text",
    "id": "uZxeREKHgbCp"
   },
   "source": [
    "WGS per year"
   ]
  },
  {
   "cell_type": "code",
   "execution_count": null,
   "metadata": {
    "colab": {
     "base_uri": "https://localhost:8080/",
     "height": 587
    },
    "colab_type": "code",
    "id": "tbmnV8D7gbMi",
    "outputId": "d801fefc-75b0-4713-d6bd-b3fb1cc7b433"
   },
   "outputs": [],
   "source": [
    "wgsperyear = pd.read_csv(\"/content/WGSperyearcount\")\n",
    "wgsvalues = pd.DataFrame(columns = [\"Year\", \"Count\"])\n",
    "for i, row in wgsperyear.iterrows():\n",
    "  val = row[0]\n",
    "  wgsvalues = wgsvalues.append({\"Year\": int(val.split(\"\\t\")[0]), \"Count\": int(val.split(\"\\t\")[1])}, ignore_index=True)\n",
    "wgsvalues\n",
    "ax = wgsvalues.plot.bar(x = \"Year\", legend = False)\n",
    "ax.set_ylabel(\"WGS Experiments\", fontsize = 20)\n",
    "ax.set_xlabel(\"Year\", fontsize = 20)\n",
    "plt.xticks(fontsize = 15, rotation = 90)\n",
    "plt.yticks(fontsize = 15)"
   ]
  },
  {
   "cell_type": "markdown",
   "metadata": {
    "colab_type": "text",
    "id": "bFRUlt-xgbUd"
   },
   "source": [
    "Experiments per year"
   ]
  },
  {
   "cell_type": "code",
   "execution_count": null,
   "metadata": {
    "colab": {
     "base_uri": "https://localhost:8080/",
     "height": 1000
    },
    "colab_type": "code",
    "id": "QVVj80Kggbfu",
    "outputId": "1a1d57d7-f77d-4c45-c307-7a641451ed8d"
   },
   "outputs": [],
   "source": [
    "years = pd.read_json(\"/content/referenceyears.json\")\n",
    "years=years[\"year\"]\n",
    "ax = years.value_counts().plot.bar()\n",
    "plt.gca().invert_xaxis()\n",
    "plt.ylabel(\"Experiments\", fontsize = 20)\n",
    "plt.xlabel(\"Year\", fontsize = 20)\n",
    "plt.xticks(fontsize = 15, rotation = 90)\n",
    "plt.yticks(fontsize = 15)\n",
    "plt.setp(ax.get_xticklabels()[::2], visible=False)"
   ]
  },
  {
   "cell_type": "markdown",
   "metadata": {
    "colab_type": "text",
    "id": "wdJ0jtQUAzjW"
   },
   "source": [
    "Recreating species graph to match same format"
   ]
  },
  {
   "cell_type": "code",
   "execution_count": null,
   "metadata": {
    "colab": {
     "base_uri": "https://localhost:8080/",
     "height": 528
    },
    "colab_type": "code",
    "id": "UFajzvvoAzuF",
    "outputId": "bd396251-5b63-4135-a699-a3ecf95c7abe"
   },
   "outputs": [],
   "source": [
    "species = [\"E. coli\", \"S. cerevisiae\", \"P. aeruginosa\", \"P. fluorescens\", \"Phage phi2\", \"S. aureus\", \"Tobacco etch virus\", \"R. solanacearum\", \"Other(78 species)\"]\n",
    "values = [112, 41, 29, 20, 10, 7, 6, 5, 115]\n",
    "\n",
    "speciesdf = pd.DataFrame({'Species': species, 'Count':values})\n",
    "\n",
    "ax = speciesdf.plot.barh(x='Species', y='Count', rot= 90, legend = False)\n",
    "plt.xlabel(\"Experiments\", fontsize = 20)\n",
    "plt.ylabel(\"\")\n",
    "plt.xticks(fontsize = 15, rotation = 0)\n",
    "plt.yticks(fontsize = 15, rotation = 0)\n",
    "plt.gca().invert_yaxis()"
   ]
  },
  {
   "cell_type": "markdown",
   "metadata": {
    "colab_type": "text",
    "id": "2QSXL32HrqDB"
   },
   "source": [
    "Uploading new files and looking at new graphs from adapated tools. Run time took a long time so only 31 of 54 experiments were finished though this still contains all of the largest experiments and the majority of the data."
   ]
  },
  {
   "cell_type": "code",
   "execution_count": null,
   "metadata": {
    "colab": {
     "base_uri": "https://localhost:8080/",
     "height": 1000,
     "resources": {
      "http://localhost:8080/nbextensions/google.colab/files.js": {
       "data": "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",
       "headers": [
        [
         "content-type",
         "application/javascript"
        ]
       ],
       "ok": true,
       "status": 200,
       "status_text": "OK"
      }
     }
    },
    "colab_type": "code",
    "id": "G6Hdeb2_rqNL",
    "outputId": "950ad713-3378-4a64-a349-849b19cc73dd"
   },
   "outputs": [],
   "source": [
    "uploadedfinal = files.upload()"
   ]
  },
  {
   "cell_type": "code",
   "execution_count": null,
   "metadata": {
    "colab": {},
    "colab_type": "code",
    "id": "fx9vTtFEKF5m"
   },
   "outputs": [],
   "source": [
    "finaldf = pd.DataFrame()"
   ]
  },
  {
   "cell_type": "code",
   "execution_count": null,
   "metadata": {
    "colab": {},
    "colab_type": "code",
    "id": "H59O2RxDKERA"
   },
   "outputs": [],
   "source": [
    "experimentid = 1\n",
    "for file in uploadedfinal.keys():\n",
    "    data = pd.read_excel(file, \"Sheet1\").assign(ExperimentID = experimentid)\n",
    "    finaldf = finaldf.append(data, ignore_index=True)\n",
    "    experimentid +=1"
   ]
  },
  {
   "cell_type": "markdown",
   "metadata": {
    "colab_type": "text",
    "id": "lmhn03rJK-mf"
   },
   "source": [
    "The first thing we will look at is the distribution of cellular locations"
   ]
  },
  {
   "cell_type": "code",
   "execution_count": null,
   "metadata": {
    "colab": {
     "base_uri": "https://localhost:8080/",
     "height": 687
    },
    "colab_type": "code",
    "id": "yFkv8BrXK-zR",
    "outputId": "1c19afe1-0169-423c-ee17-821787d086e2"
   },
   "outputs": [],
   "source": [
    "finaldf"
   ]
  },
  {
   "cell_type": "code",
   "execution_count": null,
   "metadata": {
    "colab": {},
    "colab_type": "code",
    "id": "jR-CYsOgLZRQ"
   },
   "outputs": [],
   "source": [
    "# finaldf[\"Location\"].value_counts().plot.bar()\n",
    "# plt.ylabel(\"Mutations\")\n",
    "# plt.xticks(rotation = 0)"
   ]
  },
  {
   "cell_type": "markdown",
   "metadata": {
    "colab_type": "text",
    "id": "3JLpkMItOvGi"
   },
   "source": [
    "Looking at impact scores of mutations"
   ]
  },
  {
   "cell_type": "code",
   "execution_count": null,
   "metadata": {
    "colab": {
     "base_uri": "https://localhost:8080/",
     "height": 573
    },
    "colab_type": "code",
    "id": "OF4f-h72OvOV",
    "outputId": "d761698c-c550-4ef9-a1e3-85256f29f340"
   },
   "outputs": [],
   "source": [
    "finaldf[\"impact\"].value_counts().plot.bar()\n",
    "print(finaldf[\"impact\"].value_counts())\n",
    "plt.ylabel(\"Mutations\")\n",
    "plt.xticks(rotation = 0)"
   ]
  },
  {
   "cell_type": "markdown",
   "metadata": {
    "colab_type": "text",
    "id": "FhqGz5dEElFP"
   },
   "source": [
    "We can also check which of the 6 categories mutations are affected by PTMs and linear motifs, Stability, Interfaces, Conservation, TFBS, and Start Stop Codons"
   ]
  },
  {
   "cell_type": "code",
   "execution_count": null,
   "metadata": {
    "colab": {},
    "colab_type": "code",
    "id": "5Z1zH96FElbg"
   },
   "outputs": [],
   "source": []
  },
  {
   "cell_type": "markdown",
   "metadata": {
    "colab_type": "text",
    "id": "sJdQ5E53TmC_"
   },
   "source": [
    "We can also look at whether mutations affect interactions with other molecules. The higher the score the more likely these interactions are impacted."
   ]
  },
  {
   "cell_type": "code",
   "execution_count": null,
   "metadata": {
    "colab": {
     "base_uri": "https://localhost:8080/",
     "height": 608
    },
    "colab_type": "code",
    "id": "-e8q4NfGTmLs",
    "outputId": "6e1d3090-00c1-4a50-a36f-9865d1031015"
   },
   "outputs": [],
   "source": [
    "finaldf[\"Total Interaction Score\"] = pd.to_numeric(finaldf[\"Total Interaction Score\"])\n",
    "plt.hist(finaldf[\"Total Interaction Score\"])\n",
    "plt.ylabel(\"Mutations\")\n",
    "plt.xlabel(\"Mechismo Score\")\n",
    "# finaldf[\"Total Interaction Score\"].hist()"
   ]
  }
 ],
 "metadata": {
  "colab": {
   "collapsed_sections": [],
   "name": "DataAnalysis.ipynb",
   "provenance": [],
   "toc_visible": true
  },
  "kernelspec": {
   "display_name": "Python 3",
   "language": "python",
   "name": "python3"
  },
  "language_info": {
   "codemirror_mode": {
    "name": "ipython",
    "version": 3
   },
   "file_extension": ".py",
   "mimetype": "text/x-python",
   "name": "python",
   "nbconvert_exporter": "python",
   "pygments_lexer": "ipython3",
   "version": "3.8.2"
  }
 },
 "nbformat": 4,
 "nbformat_minor": 1
}

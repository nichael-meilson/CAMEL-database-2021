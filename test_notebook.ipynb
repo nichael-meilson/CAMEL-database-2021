{
 "metadata": {
  "language_info": {
   "codemirror_mode": {
    "name": "ipython",
    "version": 3
   },
   "file_extension": ".py",
   "mimetype": "text/x-python",
   "name": "python",
   "nbconvert_exporter": "python",
   "pygments_lexer": "ipython3",
   "version": "3.8.2-final"
  },
  "orig_nbformat": 2,
  "kernelspec": {
   "name": "camel-database-2021",
   "display_name": "CAMEL-database-2021",
   "language": "python"
  }
 },
 "nbformat": 4,
 "nbformat_minor": 2,
 "cells": [
  {
   "cell_type": "code",
   "execution_count": null,
   "metadata": {},
   "outputs": [],
   "source": [
    "import unittest\n",
    "import pandas as pd\n",
    "import mechanize\n",
    "import zipfile\n",
    "from Bio.Data.IUPACData import protein_letters_3to1\n",
    "import mutfunc_functionality"
   ]
  },
  {
   "cell_type": "code",
   "execution_count": null,
   "metadata": {},
   "outputs": [],
   "source": [
    "df = pd.read_excel(\"test/test_mutation_file.xlsx\", header=4, keep_default_na=False)\n",
    "df.head()"
   ]
  },
  {
   "cell_type": "code",
   "execution_count": null,
   "metadata": {},
   "outputs": [],
   "source": [
    "result = mutfunc_functionality.runmutfunc(\"test/test_mutation_file.xlsx\")"
   ]
  },
  {
   "cell_type": "code",
   "execution_count": null,
   "metadata": {},
   "outputs": [],
   "source": [
    "result.to_csv(\"test/test_result_mutfunc.csv\")"
   ]
  },
  {
   "cell_type": "code",
   "execution_count": null,
   "metadata": {},
   "outputs": [],
   "source": [
    "final_df.to_csv(\"test/test_final_df.csv\")"
   ]
  },
  {
   "source": [
    "###Mechismo"
   ],
   "cell_type": "markdown",
   "metadata": {}
  },
  {
   "cell_type": "code",
   "execution_count": null,
   "metadata": {},
   "outputs": [],
   "source": [
    "from Mechismo_functionality import run_mechismo\n",
    "\n",
    "x = run_mechismo(\"test/test_mutation_file.xlsx\")\n",
    "x.to_csv()"
   ]
  },
  {
   "cell_type": "code",
   "execution_count": null,
   "metadata": {},
   "outputs": [],
   "source": [
    "x.to_csv()"
   ]
  },
  {
   "cell_type": "code",
   "execution_count": null,
   "metadata": {},
   "outputs": [],
   "source": [
    "x"
   ]
  },
  {
   "source": [
    "CELLO2GO"
   ],
   "cell_type": "markdown",
   "metadata": {}
  },
  {
   "cell_type": "code",
   "execution_count": 3,
   "metadata": {
    "tags": []
   },
   "outputs": [],
   "source": [
    "import CellularLocation\n",
    "\n",
    "genes = CellularLocation.locations(\"test/test_mutation_file.xlsx\")\n",
    "batch_list = CellularLocation.get_batch_list(genes, 4)"
   ]
  },
  {
   "cell_type": "code",
   "execution_count": 10,
   "metadata": {},
   "outputs": [],
   "source": [
    "updated = df.split(\">\")[1:]\n",
    "updated = updated[0:12]"
   ]
  },
  {
   "cell_type": "code",
   "execution_count": 11,
   "metadata": {},
   "outputs": [
    {
     "output_type": "execute_result",
     "data": {
      "text/plain": [
       "12"
      ]
     },
     "metadata": {},
     "execution_count": 11
    }
   ],
   "source": [
    "len(updated)"
   ]
  },
  {
   "cell_type": "code",
   "execution_count": null,
   "metadata": {},
   "outputs": [],
   "source": [
    "import pandas as pd\n",
    "[type(x) for x in result_list]\n",
    "df = pd.DataFrame(columns=[\"Start POS\", \"Cello2go probabilities\", \"Location\"])\n",
    "[df.concat(x) for x in result_list]"
   ]
  },
  {
   "cell_type": "code",
   "execution_count": null,
   "metadata": {},
   "outputs": [],
   "source": [
    "text_file = open(\"test/cello_results.txt\", \"w\")\n",
    "text_file.write(list)\n",
    "text_file.close()"
   ]
  },
  {
   "source": [
    "Add Experiment Test"
   ],
   "cell_type": "markdown",
   "metadata": {}
  },
  {
   "cell_type": "code",
   "execution_count": null,
   "metadata": {},
   "outputs": [],
   "source": [
    "import Addexperiment\n",
    "Addexperiment.add_mutation_to_experiment(\"test/test_mutation_file.xlsx\")"
   ]
  }
 ]
}
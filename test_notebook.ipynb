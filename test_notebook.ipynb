{
 "metadata": {
  "language_info": {
   "codemirror_mode": {
    "name": "ipython",
    "version": 3
   },
   "file_extension": ".py",
   "mimetype": "text/x-python",
   "name": "python",
   "nbconvert_exporter": "python",
   "pygments_lexer": "ipython3",
   "version": "3.8.2-final"
  },
  "orig_nbformat": 2,
  "kernelspec": {
   "name": "camel-database-2021",
   "display_name": "CAMEL-database-2021"
  }
 },
 "nbformat": 4,
 "nbformat_minor": 2,
 "cells": [
  {
   "cell_type": "code",
   "execution_count": 2,
   "metadata": {},
   "outputs": [],
   "source": [
    "import unittest\n",
    "import pandas as pd\n",
    "import mechanize\n",
    "from Bio.Data.IUPACData import protein_letters_3to1\n",
    "import mutfunc_functionality"
   ]
  },
  {
   "cell_type": "code",
   "execution_count": 79,
   "metadata": {},
   "outputs": [],
   "source": [
    "runmutfunc(\"Hickman2017mut.xlsx\")"
   ]
  },
  {
   "cell_type": "code",
   "execution_count": 7,
   "metadata": {},
   "outputs": [],
   "source": [
    "df = pd.read_excel(\"test/test_mutation_file.xlsx\", header=4, keep_default_na=False)\n",
    "mutfunc_functionality.extract_snps(df).to_csv(\"test/test_extract_snps.csv\", index=False)"
   ]
  },
  {
   "cell_type": "code",
   "execution_count": 3,
   "metadata": {},
   "outputs": [],
   "source": [
    "result = mutfunc_functionality.runmutfunc(\"test/test_mutation_file.xlsx\")"
   ]
  },
  {
   "cell_type": "code",
   "execution_count": 5,
   "metadata": {},
   "outputs": [
    {
     "output_type": "execute_result",
     "data": {
      "text/plain": [
       "'test/test_mutation_file.xlsx.gz'"
      ]
     },
     "metadata": {},
     "execution_count": 5
    }
   ],
   "source": [
    "result"
   ]
  },
  {
   "cell_type": "code",
   "execution_count": 8,
   "metadata": {},
   "outputs": [
    {
     "output_type": "execute_result",
     "data": {
      "text/plain": [
       "       CHROM_ID  Start POS End POS TYPE REF ALT   GEN        ∆AA       POP  \\\n",
       "0     NC_000913        506          DEL   T      cpxA   Ile169fs  LineageA   \n",
       "1     NC_000913       1333          SNP   T   G  fusA  Phe445Val  LineageA   \n",
       "2     NC_000913        557          SNP   A   C  sbmA  Thr168Pro  LineageA   \n",
       "3     NC_000913        672          SNP   G   T  sbmA  Gly206Val  LineageA   \n",
       "4     NC_000913        337          DEL   G      cpxA   Asp113fs  LineageA   \n",
       "...         ...        ...     ...  ...  ..  ..   ...        ...       ...   \n",
       "3412  NC_000913        260          SNP   A   G  gyrA   Asp87Gly  LineageC   \n",
       "3413  NC_000913        220          SNP   C   A  acrR     Tyr49*  LineageC   \n",
       "3414  NC_000913        151          SNP   C   A  soxR   Arg51Ser  LineageC   \n",
       "3415  NC_000913        250          SNP   G   C  gyrA   Ala84Pro  LineageC   \n",
       "3416  NC_000913         71          DEL   A      gyrA    Tyr24fs  LineageC   \n",
       "\n",
       "     CLON  TIME       FREQ  COM  \n",
       "0             2  10.294951  AMK  \n",
       "1             2   7.891414  AMK  \n",
       "2             2   3.244144  AMK  \n",
       "3             2   2.259657  AMK  \n",
       "4             2   2.195156  AMK  \n",
       "...   ...   ...        ...  ...  \n",
       "3412         12  16.400527  CIP  \n",
       "3413         12   3.102608  CIP  \n",
       "3414         12   2.885408  CIP  \n",
       "3415         12   1.761204  CIP  \n",
       "3416         12   0.665583  CIP  \n",
       "\n",
       "[3417 rows x 13 columns]"
      ],
      "text/html": "<div>\n<style scoped>\n    .dataframe tbody tr th:only-of-type {\n        vertical-align: middle;\n    }\n\n    .dataframe tbody tr th {\n        vertical-align: top;\n    }\n\n    .dataframe thead th {\n        text-align: right;\n    }\n</style>\n<table border=\"1\" class=\"dataframe\">\n  <thead>\n    <tr style=\"text-align: right;\">\n      <th></th>\n      <th>CHROM_ID</th>\n      <th>Start POS</th>\n      <th>End POS</th>\n      <th>TYPE</th>\n      <th>REF</th>\n      <th>ALT</th>\n      <th>GEN</th>\n      <th>∆AA</th>\n      <th>POP</th>\n      <th>CLON</th>\n      <th>TIME</th>\n      <th>FREQ</th>\n      <th>COM</th>\n    </tr>\n  </thead>\n  <tbody>\n    <tr>\n      <th>0</th>\n      <td>NC_000913</td>\n      <td>506</td>\n      <td></td>\n      <td>DEL</td>\n      <td>T</td>\n      <td></td>\n      <td>cpxA</td>\n      <td>Ile169fs</td>\n      <td>LineageA</td>\n      <td></td>\n      <td>2</td>\n      <td>10.294951</td>\n      <td>AMK</td>\n    </tr>\n    <tr>\n      <th>1</th>\n      <td>NC_000913</td>\n      <td>1333</td>\n      <td></td>\n      <td>SNP</td>\n      <td>T</td>\n      <td>G</td>\n      <td>fusA</td>\n      <td>Phe445Val</td>\n      <td>LineageA</td>\n      <td></td>\n      <td>2</td>\n      <td>7.891414</td>\n      <td>AMK</td>\n    </tr>\n    <tr>\n      <th>2</th>\n      <td>NC_000913</td>\n      <td>557</td>\n      <td></td>\n      <td>SNP</td>\n      <td>A</td>\n      <td>C</td>\n      <td>sbmA</td>\n      <td>Thr168Pro</td>\n      <td>LineageA</td>\n      <td></td>\n      <td>2</td>\n      <td>3.244144</td>\n      <td>AMK</td>\n    </tr>\n    <tr>\n      <th>3</th>\n      <td>NC_000913</td>\n      <td>672</td>\n      <td></td>\n      <td>SNP</td>\n      <td>G</td>\n      <td>T</td>\n      <td>sbmA</td>\n      <td>Gly206Val</td>\n      <td>LineageA</td>\n      <td></td>\n      <td>2</td>\n      <td>2.259657</td>\n      <td>AMK</td>\n    </tr>\n    <tr>\n      <th>4</th>\n      <td>NC_000913</td>\n      <td>337</td>\n      <td></td>\n      <td>DEL</td>\n      <td>G</td>\n      <td></td>\n      <td>cpxA</td>\n      <td>Asp113fs</td>\n      <td>LineageA</td>\n      <td></td>\n      <td>2</td>\n      <td>2.195156</td>\n      <td>AMK</td>\n    </tr>\n    <tr>\n      <th>...</th>\n      <td>...</td>\n      <td>...</td>\n      <td>...</td>\n      <td>...</td>\n      <td>...</td>\n      <td>...</td>\n      <td>...</td>\n      <td>...</td>\n      <td>...</td>\n      <td>...</td>\n      <td>...</td>\n      <td>...</td>\n      <td>...</td>\n    </tr>\n    <tr>\n      <th>3412</th>\n      <td>NC_000913</td>\n      <td>260</td>\n      <td></td>\n      <td>SNP</td>\n      <td>A</td>\n      <td>G</td>\n      <td>gyrA</td>\n      <td>Asp87Gly</td>\n      <td>LineageC</td>\n      <td></td>\n      <td>12</td>\n      <td>16.400527</td>\n      <td>CIP</td>\n    </tr>\n    <tr>\n      <th>3413</th>\n      <td>NC_000913</td>\n      <td>220</td>\n      <td></td>\n      <td>SNP</td>\n      <td>C</td>\n      <td>A</td>\n      <td>acrR</td>\n      <td>Tyr49*</td>\n      <td>LineageC</td>\n      <td></td>\n      <td>12</td>\n      <td>3.102608</td>\n      <td>CIP</td>\n    </tr>\n    <tr>\n      <th>3414</th>\n      <td>NC_000913</td>\n      <td>151</td>\n      <td></td>\n      <td>SNP</td>\n      <td>C</td>\n      <td>A</td>\n      <td>soxR</td>\n      <td>Arg51Ser</td>\n      <td>LineageC</td>\n      <td></td>\n      <td>12</td>\n      <td>2.885408</td>\n      <td>CIP</td>\n    </tr>\n    <tr>\n      <th>3415</th>\n      <td>NC_000913</td>\n      <td>250</td>\n      <td></td>\n      <td>SNP</td>\n      <td>G</td>\n      <td>C</td>\n      <td>gyrA</td>\n      <td>Ala84Pro</td>\n      <td>LineageC</td>\n      <td></td>\n      <td>12</td>\n      <td>1.761204</td>\n      <td>CIP</td>\n    </tr>\n    <tr>\n      <th>3416</th>\n      <td>NC_000913</td>\n      <td>71</td>\n      <td></td>\n      <td>DEL</td>\n      <td>A</td>\n      <td></td>\n      <td>gyrA</td>\n      <td>Tyr24fs</td>\n      <td>LineageC</td>\n      <td></td>\n      <td>12</td>\n      <td>0.665583</td>\n      <td>CIP</td>\n    </tr>\n  </tbody>\n</table>\n<p>3417 rows × 13 columns</p>\n</div>"
     },
     "metadata": {},
     "execution_count": 8
    }
   ],
   "source": [
    "df"
   ]
  },
  {
   "cell_type": "code",
   "execution_count": 11,
   "metadata": {},
   "outputs": [],
   "source": [
    "new_df = mutfunc_functionality.extract_files(\"test/test_mutation_file.xlsx.gz\", df)"
   ]
  },
  {
   "cell_type": "code",
   "execution_count": 16,
   "metadata": {},
   "outputs": [
    {
     "output_type": "execute_result",
     "data": {
      "text/plain": [
       "Index(['index', 'CHROM_ID', 'Start POS', 'End POS', 'TYPE', 'REF', 'ALT',\n",
       "       'GEN', '∆AA', 'POP', 'CLON', 'TIME', 'FREQ', 'COM', '', 'refaa',\n",
       "       'altaa', 'impact', 'score', 'ic', 'ddg', 'pdb_id', 'sequence',\n",
       "       'accession', 'modification_type', 'site_function', 'function_evidence',\n",
       "       'predicted_kinase', 'probability_loss', 'knockout_pvalue', 'tf',\n",
       "       'Category of Mutation'],\n",
       "      dtype='object')"
      ]
     },
     "metadata": {},
     "execution_count": 16
    }
   ],
   "source": [
    "new_df.columns"
   ]
  },
  {
   "cell_type": "code",
   "execution_count": 27,
   "metadata": {},
   "outputs": [
    {
     "output_type": "execute_result",
     "data": {
      "text/plain": [
       "array([''], dtype=object)"
      ]
     },
     "metadata": {},
     "execution_count": 27
    }
   ],
   "source": [
    "new_df['site_function'].unique()"
   ]
  }
 ]
}
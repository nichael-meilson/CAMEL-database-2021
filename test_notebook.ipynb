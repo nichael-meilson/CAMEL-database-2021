{
 "metadata": {
  "language_info": {
   "codemirror_mode": {
    "name": "ipython",
    "version": 3
   },
   "file_extension": ".py",
   "mimetype": "text/x-python",
   "name": "python",
   "nbconvert_exporter": "python",
   "pygments_lexer": "ipython3",
   "version": "3.8.2-final"
  },
  "orig_nbformat": 2,
  "kernelspec": {
   "name": "camel-database-2021",
   "display_name": "CAMEL-database-2021",
   "language": "python"
  }
 },
 "nbformat": 4,
 "nbformat_minor": 2,
 "cells": [
  {
   "cell_type": "code",
   "execution_count": null,
   "metadata": {},
   "outputs": [],
   "source": [
    "import unittest\n",
    "import pandas as pd\n",
    "import mechanize\n",
    "import zipfile\n",
    "from Bio.Data.IUPACData import protein_letters_3to1\n",
    "import mutfunc_functionality"
   ]
  },
  {
   "cell_type": "code",
   "execution_count": null,
   "metadata": {},
   "outputs": [],
   "source": [
    "df = pd.read_excel(\"test/test_mutation_file.xlsx\", header=4, keep_default_na=False)\n",
    "df.head()"
   ]
  },
  {
   "cell_type": "code",
   "execution_count": null,
   "metadata": {},
   "outputs": [],
   "source": [
    "result = mutfunc_functionality.runmutfunc(\"test/test_mutation_file.xlsx\")"
   ]
  },
  {
   "cell_type": "code",
   "execution_count": null,
   "metadata": {},
   "outputs": [],
   "source": [
    "result.to_csv(\"test/test_result_mutfunc.csv\")"
   ]
  },
  {
   "cell_type": "code",
   "execution_count": null,
   "metadata": {},
   "outputs": [],
   "source": [
    "final_df.to_csv(\"test/test_final_df.csv\")"
   ]
  },
  {
   "source": [
    "###Mechismo"
   ],
   "cell_type": "markdown",
   "metadata": {}
  },
  {
   "source": [
    "# Making Mechismo work automatically with CAMEL\n",
    "# Mechismo uses ids for each session so we can try using mechanize like in MutFunc\n",
    "\n",
    "import mechanize\n",
    "import pandas as pd\n",
    "import time\n",
    "import os\n",
    "\n",
    "# Mechismo works with SNPs or with PTMs so we take only the SNPs in our mutations\n",
    "\n",
    "df = pd.read_excel(\"test/test_mutation_file.xlsx\", header=4, keep_default_na=False)\n",
    "# Here we filter to only keep unique SNP mutations\n",
    "df = df[df['TYPE'] == \"SNP\"].drop_duplicates()\n",
    "# Also have to remove NAs in gene\n",
    "df = df[df['GEN'] != \"NA\"]\n",
    "# Take only data from the SNPs that we want for checking in MutFunc\n",
    "# Merge all parts together so they can be added as one entry per line\n",
    "SNP_list = pd.DataFrame()\n",
    "SNP_list[\"SNPs\"] = df['GEN'] + \" \" + df.iloc[:, 7] + \" \" + df[\"Start POS\"].astype(str)\n",
    "# Have to remove noncoding and pseudogene\n",
    "SNP_list= SNP_list[~SNP_list[\"SNPs\"].str.contains('pseudogene')]\n",
    "SNP_list = SNP_list[~SNP_list[\"SNPs\"].str.contains('noncoding')]\n",
    "SNP_list = SNP_list.drop_duplicates()\n",
    "\n",
    "# Now that we have our list of mutations that match Mechismos guidelines we can start running the website\n",
    "br = mechanize.Browser()\n",
    "br.open(\"http://mechismo.russelllab.org/\")\n",
    "# for form in br.forms():\n",
    "#     print(form)\n",
    "br.select_form(nr=0)\n",
    "mutations = \"\"\n",
    "for i in range(len(SNP_list)):\n",
    "    mutations = mutations + SNP_list[\"SNPs\"].iloc[i] + \"\\n\"\n",
    "\n",
    "br.form[\"search\"] = mutations\n",
    "br.form[\"search_name\"] = \"Experiment Test\"\n",
    "br.form[\"taxon\"] = [\"83333\"]\n",
    "br.form[\"stringency\"] = [\"low\"]\n",
    "br.submit()\n",
    "\n",
    "# No direct way to check its done so just pause x amount of time\n",
    "time.sleep(60)\n",
    "file_url = br.geturl()\n",
    "url = \"\"\n",
    "for i in file_url:\n",
    "    url += i\n",
    "file_id = url.split(\"/\")[-1]\n",
    "\n",
    "new_url = \"http://mechismo.russelllab.org/static/data/jobs/\" + str(file_id) + \"/\" + str(file_id) + \".site_table.tsv.gz\"\n",
    "br.retrieve(new_url, \"Experiment.tsv\")\n",
    "\n",
    "results = pd.read_csv(\"Experiment.tsv\", sep=\"\\t\", header=0)\n",
    "final_results = results[[\"name_a1\", \"name_b1\", \"mechProt\", \"mechChem\", \"mechDNA/RNA\", \"mech\", \"user input\"]]\n",
    "# Want to remove NaN from interactors to just get relevant information\n",
    "interactors = final_results['name_b1'].notna()\n",
    "updated_results = final_results[interactors]\n",
    "updated_results = updated_results.drop_duplicates()\n",
    "updated_results = updated_results.reset_index().drop(columns='index')\n",
    "\n",
    "# Remove [PROT] results\n",
    "updated_results = updated_results[updated_results['name_b1'] != \"[PROT]\"]\n",
    "camel_results = pd.DataFrame(columns=['User Input', \"Interactions/Score\", \"Total Interaction Score\"])\n",
    "\n",
    "index = 0\n",
    "input_tracker = ''\n",
    "input_value = \"\"\n",
    "total_score = \"\"\n",
    "for index, row in updated_results.iterrows():\n",
    "    if not input_tracker == '':\n",
    "        if row[\"user input\"] == input_tracker:\n",
    "            if \"CHEM\" in row[\"name_b1\"]:\n",
    "                input_value += \", \" + row[\"name_b1\"] + \", \" + str(row[\"mechChem\"])\n",
    "            elif \"DNA\" in row[\"name_b1\"]:\n",
    "                input_value += \", \" + row[\"name_b1\"] + \", \" + str(row[\"mechDNA/RNA\"])\n",
    "            else:\n",
    "                input_value += \", \" + row[\"name_b1\"] + \", \" + str(row[\"mechProt\"])\n",
    "            continue\n",
    "        else:\n",
    "            camel_results.loc[index] = [input_tracker.split(\" \"), input_value, total_score]\n",
    "            index += 1\n",
    "    input_tracker = row[\"user input\"]\n",
    "    if \"CHEM\" in row[\"name_b1\"]:\n",
    "        input_value = row[\"name_b1\"] + \", \" + str(row[\"mechChem\"])\n",
    "    elif \"DNA\" in row[\"name_b1\"]:\n",
    "        input_value = row[\"name_b1\"] + \", \" + str(row[\"mechDNA/RNA\"])\n",
    "    else:\n",
    "        input_value = row[\"name_b1\"] + \", \" + str(row[\"mechProt\"])\n",
    "    # This score could be a float instead\n",
    "    total_score = str(row[\"mech\"])\n",
    "# Have to add last entry\n",
    "camel_results.loc[index] = [input_tracker.split(\" \"), input_value, total_score]\n",
    "# Have to manipulate dataframe to match mutation file so they can be merged by Start Pos\n",
    "camel_results = camel_results.rename(columns={'User Input': \"Start POS\"})\n",
    "camel_results[\"Start POS\"] = pd.to_numeric(camel_results[\"Start POS\"], errors='ignore')\n",
    "# print(camel_results)\n",
    "camel_results\n",
    "\n"
   ],
   "cell_type": "code",
   "metadata": {},
   "execution_count": null,
   "outputs": []
  },
  {
   "cell_type": "code",
   "execution_count": null,
   "metadata": {},
   "outputs": [],
   "source": [
    "camel_results.to_csv()"
   ]
  },
  {
   "cell_type": "code",
   "execution_count": null,
   "metadata": {},
   "outputs": [],
   "source": [
    "camel_results"
   ]
  },
  {
   "cell_type": "code",
   "execution_count": null,
   "metadata": {},
   "outputs": [],
   "source": [
    "from Mechismo_functionality import run_mechismo\n",
    "\n",
    "x = run_mechismo(\"test/test_mutation_file.xlsx\")\n",
    "x.to_csv()"
   ]
  },
  {
   "cell_type": "code",
   "execution_count": null,
   "metadata": {},
   "outputs": [],
   "source": [
    "x.to_csv()"
   ]
  },
  {
   "cell_type": "code",
   "execution_count": null,
   "metadata": {},
   "outputs": [],
   "source": [
    "x"
   ]
  },
  {
   "source": [
    "CELLO2GO"
   ],
   "cell_type": "markdown",
   "metadata": {}
  },
  {
   "cell_type": "code",
   "execution_count": 1,
   "metadata": {},
   "outputs": [],
   "source": [
    "import CellularLocation"
   ]
  },
  {
   "cell_type": "code",
   "execution_count": null,
   "metadata": {},
   "outputs": [],
   "source": [
    "df = pd.read_excel(\"test/test_mutation_file.xlsx\", header=4, keep_default_na=False)\n",
    "# The first thing to do is to remove all mutations that do not provide the gene that is affected as well as drop\n",
    "# duplicates\n",
    "genes = df['GEN'] != \"NA\"\n",
    "df = df[genes]\n",
    "df = df.drop_duplicates()\n",
    "df = df.reset_index()\n",
    "df = df.drop(columns=\"index\")"
   ]
  },
  {
   "cell_type": "code",
   "execution_count": 2,
   "metadata": {},
   "outputs": [
    {
     "output_type": "stream",
     "name": "stdout",
     "text": [
      "{}\n"
     ]
    },
    {
     "output_type": "error",
     "ename": "IndexError",
     "evalue": "list index out of range",
     "traceback": [
      "\u001b[0;31m---------------------------------------------------------------------------\u001b[0m",
      "\u001b[0;31mKeyError\u001b[0m                                  Traceback (most recent call last)",
      "\u001b[0;32m~/Documents/School - Masters 3/Thesis/CAMEL-database-2021/CellularLocation.py\u001b[0m in \u001b[0;36mlocations\u001b[0;34m(file)\u001b[0m\n\u001b[1;32m     73\u001b[0m             \u001b[0;32mtry\u001b[0m\u001b[0;34m:\u001b[0m\u001b[0;34m\u001b[0m\u001b[0;34m\u001b[0m\u001b[0m\n\u001b[0;32m---> 74\u001b[0;31m                 \u001b[0mfinal_list\u001b[0m \u001b[0;34m+=\u001b[0m \u001b[0mstr\u001b[0m\u001b[0;34m(\u001b[0m\u001b[0mgene_dict\u001b[0m\u001b[0;34m[\u001b[0m\u001b[0mgene\u001b[0m\u001b[0;34m]\u001b[0m\u001b[0;34m)\u001b[0m \u001b[0;34m+\u001b[0m \u001b[0;34m\"\\n\"\u001b[0m\u001b[0;34m\u001b[0m\u001b[0;34m\u001b[0m\u001b[0m\n\u001b[0m\u001b[1;32m     75\u001b[0m             \u001b[0;32mexcept\u001b[0m \u001b[0mKeyError\u001b[0m\u001b[0;34m:\u001b[0m\u001b[0;34m\u001b[0m\u001b[0;34m\u001b[0m\u001b[0m\n",
      "\u001b[0;31mKeyError\u001b[0m: 'cpxA'",
      "\nDuring handling of the above exception, another exception occurred:\n",
      "\u001b[0;31mIndexError\u001b[0m                                Traceback (most recent call last)",
      "\u001b[0;32m<ipython-input-2-0f3cddbda111>\u001b[0m in \u001b[0;36m<module>\u001b[0;34m\u001b[0m\n\u001b[0;32m----> 1\u001b[0;31m \u001b[0mresult\u001b[0m \u001b[0;34m=\u001b[0m \u001b[0mCellularLocation\u001b[0m\u001b[0;34m.\u001b[0m\u001b[0mlocations\u001b[0m\u001b[0;34m(\u001b[0m\u001b[0;34m\"test/test_mutation_file.xlsx\"\u001b[0m\u001b[0;34m)\u001b[0m\u001b[0;34m\u001b[0m\u001b[0;34m\u001b[0m\u001b[0m\n\u001b[0m",
      "\u001b[0;32m~/Documents/School - Masters 3/Thesis/CAMEL-database-2021/CellularLocation.py\u001b[0m in \u001b[0;36mlocations\u001b[0;34m(file)\u001b[0m\n\u001b[1;32m     77\u001b[0m                 \u001b[0;32mfor\u001b[0m \u001b[0mline\u001b[0m \u001b[0;32min\u001b[0m \u001b[0mgene_synonyms\u001b[0m\u001b[0;34m:\u001b[0m\u001b[0;34m\u001b[0m\u001b[0;34m\u001b[0m\u001b[0m\n\u001b[1;32m     78\u001b[0m                     \u001b[0;32mif\u001b[0m \u001b[0mgene\u001b[0m \u001b[0;32min\u001b[0m \u001b[0mline\u001b[0m\u001b[0;34m:\u001b[0m\u001b[0;34m\u001b[0m\u001b[0;34m\u001b[0m\u001b[0m\n\u001b[0;32m---> 79\u001b[0;31m                         \u001b[0mnames\u001b[0m \u001b[0;34m=\u001b[0m \u001b[0mline\u001b[0m\u001b[0;34m.\u001b[0m\u001b[0msplit\u001b[0m\u001b[0;34m(\u001b[0m\u001b[0;34m\"\\t\"\u001b[0m\u001b[0;34m)\u001b[0m\u001b[0;34m[\u001b[0m\u001b[0;36m1\u001b[0m\u001b[0;34m]\u001b[0m\u001b[0;34m\u001b[0m\u001b[0;34m\u001b[0m\u001b[0m\n\u001b[0m\u001b[1;32m     80\u001b[0m                         \u001b[0;32mfor\u001b[0m \u001b[0mname\u001b[0m \u001b[0;32min\u001b[0m \u001b[0mnames\u001b[0m\u001b[0;34m.\u001b[0m\u001b[0msplit\u001b[0m\u001b[0;34m(\u001b[0m\u001b[0;34m\" \"\u001b[0m\u001b[0;34m)\u001b[0m\u001b[0;34m:\u001b[0m\u001b[0;34m\u001b[0m\u001b[0;34m\u001b[0m\u001b[0m\n\u001b[1;32m     81\u001b[0m                             \u001b[0;32mtry\u001b[0m\u001b[0;34m:\u001b[0m\u001b[0;34m\u001b[0m\u001b[0;34m\u001b[0m\u001b[0m\n",
      "\u001b[0;31mIndexError\u001b[0m: list index out of range"
     ]
    }
   ],
   "source": [
    "result = CellularLocation.locations(\"test/test_mutation_file.xlsx\")"
   ]
  },
  {
   "cell_type": "code",
   "execution_count": null,
   "metadata": {},
   "outputs": [],
   "source": []
  }
 ]
}
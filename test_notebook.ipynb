{
 "metadata": {
  "language_info": {
   "codemirror_mode": {
    "name": "ipython",
    "version": 3
   },
   "file_extension": ".py",
   "mimetype": "text/x-python",
   "name": "python",
   "nbconvert_exporter": "python",
   "pygments_lexer": "ipython3",
   "version": "3.8.2-final"
  },
  "orig_nbformat": 2,
  "kernelspec": {
   "name": "camel-database-2021",
   "display_name": "CAMEL-database-2021",
   "language": "python"
  }
 },
 "nbformat": 4,
 "nbformat_minor": 2,
 "cells": [
  {
   "cell_type": "code",
   "execution_count": null,
   "metadata": {},
   "outputs": [],
   "source": [
    "import unittest\n",
    "import pandas as pd\n",
    "import mechanize\n",
    "import zipfile\n",
    "from Bio.Data.IUPACData import protein_letters_3to1\n",
    "import mutfunc_functionality"
   ]
  },
  {
   "cell_type": "code",
   "execution_count": null,
   "metadata": {},
   "outputs": [],
   "source": [
    "df = pd.read_excel(\"test/test_mutation_file.xlsx\", header=4, keep_default_na=False)\n",
    "df.head()"
   ]
  },
  {
   "cell_type": "code",
   "execution_count": null,
   "metadata": {},
   "outputs": [],
   "source": [
    "result = mutfunc_functionality.runmutfunc(\"test/test_mutation_file.xlsx\")"
   ]
  },
  {
   "cell_type": "code",
   "execution_count": null,
   "metadata": {},
   "outputs": [],
   "source": [
    "result.to_csv(\"test/test_result_mutfunc.csv\")"
   ]
  },
  {
   "cell_type": "code",
   "execution_count": null,
   "metadata": {},
   "outputs": [],
   "source": [
    "final_df.to_csv(\"test/test_final_df.csv\")"
   ]
  },
  {
   "source": [
    "###Mechismo"
   ],
   "cell_type": "markdown",
   "metadata": {}
  },
  {
   "cell_type": "code",
   "execution_count": null,
   "metadata": {},
   "outputs": [],
   "source": [
    "from Mechismo_functionality import run_mechismo\n",
    "\n",
    "x = run_mechismo(\"test/test_mutation_file.xlsx\")\n",
    "x.to_csv()"
   ]
  },
  {
   "cell_type": "code",
   "execution_count": null,
   "metadata": {},
   "outputs": [],
   "source": [
    "x.to_csv()"
   ]
  },
  {
   "cell_type": "code",
   "execution_count": null,
   "metadata": {},
   "outputs": [],
   "source": [
    "x"
   ]
  },
  {
   "source": [
    "CELLO2GO"
   ],
   "cell_type": "markdown",
   "metadata": {}
  },
  {
   "cell_type": "code",
   "execution_count": 1,
   "metadata": {
    "tags": []
   },
   "outputs": [
    {
     "output_type": "stream",
     "name": "stdout",
     "text": [
      "3\n"
     ]
    }
   ],
   "source": [
    "import CellularLocation\n",
    "\n",
    "genes = CellularLocation.locations(\"test/test_mutation_file.xlsx\")\n",
    "batch_list = CellularLocation.get_batch_list(genes, 4)"
   ]
  },
  {
   "cell_type": "code",
   "execution_count": 1,
   "metadata": {},
   "outputs": [],
   "source": [
    "import CellularLocation\n",
    "df = CellularLocation.run_cello2go(\"test/test_mutation_file.xlsx\")"
   ]
  },
  {
   "cell_type": "code",
   "execution_count": 2,
   "metadata": {},
   "outputs": [
    {
     "output_type": "execute_result",
     "data": {
      "text/plain": [
       "    Start POS                             Cello2go probabilities  \\\n",
       "0       506.0  Extracellular,0.005,Outermembrane,0.002,Peripl...   \n",
       "1      1333.0  Extracellular,0.005,Outermembrane,0.002,Peripl...   \n",
       "2       557.0  Extracellular,0.001,Outermembrane,0.001,Peripl...   \n",
       "3       672.0  Extracellular,0.001,Outermembrane,0.001,Peripl...   \n",
       "4       337.0  Extracellular,0.006,Outermembrane,0.022,Peripl...   \n",
       "..        ...                                                ...   \n",
       "95      333.0  Extracellular,0.006,Outermembrane,0.022,Peripl...   \n",
       "96      236.0  Extracellular,0.006,Outermembrane,0.022,Peripl...   \n",
       "97      634.0  Extracellular,0.001,Outermembrane,0.001,Peripl...   \n",
       "98      806.0  Extracellular,0.001,Outermembrane,0.001,Peripl...   \n",
       "99     1823.0  Extracellular,0.005,Outermembrane,0.002,Peripl...   \n",
       "\n",
       "         Location  \n",
       "0     Cytoplasmic  \n",
       "1     Cytoplasmic  \n",
       "2   Innermembrane  \n",
       "3   Innermembrane  \n",
       "4   Innermembrane  \n",
       "..            ...  \n",
       "95  Innermembrane  \n",
       "96  Innermembrane  \n",
       "97  Innermembrane  \n",
       "98  Innermembrane  \n",
       "99    Cytoplasmic  \n",
       "\n",
       "[100 rows x 3 columns]"
      ],
      "text/html": "<div>\n<style scoped>\n    .dataframe tbody tr th:only-of-type {\n        vertical-align: middle;\n    }\n\n    .dataframe tbody tr th {\n        vertical-align: top;\n    }\n\n    .dataframe thead th {\n        text-align: right;\n    }\n</style>\n<table border=\"1\" class=\"dataframe\">\n  <thead>\n    <tr style=\"text-align: right;\">\n      <th></th>\n      <th>Start POS</th>\n      <th>Cello2go probabilities</th>\n      <th>Location</th>\n    </tr>\n  </thead>\n  <tbody>\n    <tr>\n      <th>0</th>\n      <td>506.0</td>\n      <td>Extracellular,0.005,Outermembrane,0.002,Peripl...</td>\n      <td>Cytoplasmic</td>\n    </tr>\n    <tr>\n      <th>1</th>\n      <td>1333.0</td>\n      <td>Extracellular,0.005,Outermembrane,0.002,Peripl...</td>\n      <td>Cytoplasmic</td>\n    </tr>\n    <tr>\n      <th>2</th>\n      <td>557.0</td>\n      <td>Extracellular,0.001,Outermembrane,0.001,Peripl...</td>\n      <td>Innermembrane</td>\n    </tr>\n    <tr>\n      <th>3</th>\n      <td>672.0</td>\n      <td>Extracellular,0.001,Outermembrane,0.001,Peripl...</td>\n      <td>Innermembrane</td>\n    </tr>\n    <tr>\n      <th>4</th>\n      <td>337.0</td>\n      <td>Extracellular,0.006,Outermembrane,0.022,Peripl...</td>\n      <td>Innermembrane</td>\n    </tr>\n    <tr>\n      <th>...</th>\n      <td>...</td>\n      <td>...</td>\n      <td>...</td>\n    </tr>\n    <tr>\n      <th>95</th>\n      <td>333.0</td>\n      <td>Extracellular,0.006,Outermembrane,0.022,Peripl...</td>\n      <td>Innermembrane</td>\n    </tr>\n    <tr>\n      <th>96</th>\n      <td>236.0</td>\n      <td>Extracellular,0.006,Outermembrane,0.022,Peripl...</td>\n      <td>Innermembrane</td>\n    </tr>\n    <tr>\n      <th>97</th>\n      <td>634.0</td>\n      <td>Extracellular,0.001,Outermembrane,0.001,Peripl...</td>\n      <td>Innermembrane</td>\n    </tr>\n    <tr>\n      <th>98</th>\n      <td>806.0</td>\n      <td>Extracellular,0.001,Outermembrane,0.001,Peripl...</td>\n      <td>Innermembrane</td>\n    </tr>\n    <tr>\n      <th>99</th>\n      <td>1823.0</td>\n      <td>Extracellular,0.005,Outermembrane,0.002,Peripl...</td>\n      <td>Cytoplasmic</td>\n    </tr>\n  </tbody>\n</table>\n<p>100 rows × 3 columns</p>\n</div>"
     },
     "metadata": {},
     "execution_count": 2
    }
   ],
   "source": [
    "df"
   ]
  },
  {
   "cell_type": "code",
   "execution_count": null,
   "metadata": {},
   "outputs": [],
   "source": [
    "text_file = open(\"test/cello_results.txt\", \"w\")\n",
    "text_file.write(list)\n",
    "text_file.close()"
   ]
  },
  {
   "source": [
    "Add Experiment Test"
   ],
   "cell_type": "markdown",
   "metadata": {}
  },
  {
   "cell_type": "code",
   "execution_count": null,
   "metadata": {},
   "outputs": [],
   "source": [
    "import Addexperiment\n",
    "Addexperiment.add_mutation_to_experiment(\"test/test_mutation_file.xlsx\")"
   ]
  }
 ]
}
{
 "metadata": {
  "language_info": {
   "codemirror_mode": {
    "name": "ipython",
    "version": 3
   },
   "file_extension": ".py",
   "mimetype": "text/x-python",
   "name": "python",
   "nbconvert_exporter": "python",
   "pygments_lexer": "ipython3",
   "version": "3.8.2-final"
  },
  "orig_nbformat": 2,
  "kernelspec": {
   "name": "camel-database-2021",
   "display_name": "CAMEL-database-2021",
   "language": "python"
  }
 },
 "nbformat": 4,
 "nbformat_minor": 2,
 "cells": [
  {
   "cell_type": "code",
   "execution_count": null,
   "metadata": {},
   "outputs": [],
   "source": [
    "import unittest\n",
    "import pandas as pd\n",
    "import mechanize\n",
    "import zipfile\n",
    "from Bio.Data.IUPACData import protein_letters_3to1\n",
    "import mutfunc_functionality"
   ]
  },
  {
   "cell_type": "code",
   "execution_count": null,
   "metadata": {},
   "outputs": [],
   "source": [
    "df = pd.read_excel(\"test/test_mutation_file.xlsx\", header=4, keep_default_na=False)\n",
    "df.head()"
   ]
  },
  {
   "cell_type": "code",
   "execution_count": null,
   "metadata": {},
   "outputs": [],
   "source": [
    "result = mutfunc_functionality.runmutfunc(\"test/test_mutation_file.xlsx\")"
   ]
  },
  {
   "cell_type": "code",
   "execution_count": null,
   "metadata": {},
   "outputs": [],
   "source": [
    "result.to_csv(\"test/test_result_mutfunc.csv\")"
   ]
  },
  {
   "cell_type": "code",
   "execution_count": null,
   "metadata": {},
   "outputs": [],
   "source": [
    "final_df.to_csv(\"test/test_final_df.csv\")"
   ]
  },
  {
   "source": [
    "###Mechismo"
   ],
   "cell_type": "markdown",
   "metadata": {}
  },
  {
   "cell_type": "code",
   "execution_count": null,
   "metadata": {},
   "outputs": [],
   "source": [
    "from Mechismo_functionality import run_mechismo\n",
    "\n",
    "x = run_mechismo(\"test/test_mutation_file.xlsx\")\n",
    "x.to_csv()"
   ]
  },
  {
   "cell_type": "code",
   "execution_count": null,
   "metadata": {},
   "outputs": [],
   "source": [
    "x.to_csv()"
   ]
  },
  {
   "cell_type": "code",
   "execution_count": null,
   "metadata": {},
   "outputs": [],
   "source": [
    "x"
   ]
  },
  {
   "source": [
    "CELLO2GO"
   ],
   "cell_type": "markdown",
   "metadata": {}
  },
  {
   "cell_type": "code",
   "execution_count": null,
   "metadata": {},
   "outputs": [],
   "source": [
    "import CellularLocation\n",
    "df = CellularLocation.run_cello2go(\"test/test_mutation_file.xlsx\")"
   ]
  },
  {
   "cell_type": "code",
   "execution_count": null,
   "metadata": {},
   "outputs": [],
   "source": [
    "df.to_csv(\"test/cello_output_raw.csv\")"
   ]
  },
  {
   "cell_type": "code",
   "execution_count": null,
   "metadata": {},
   "outputs": [],
   "source": [
    "text_file = open(\"test/cello_results.txt\", \"w\")\n",
    "text_file.write(list)\n",
    "text_file.close()"
   ]
  },
  {
   "source": [
    "Add Experiment Test"
   ],
   "cell_type": "markdown",
   "metadata": {}
  },
  {
   "cell_type": "code",
   "execution_count": null,
   "metadata": {},
   "outputs": [],
   "source": [
    "import Addexperiment\n",
    "Addexperiment.add_mutation_to_experiment(\"test/test_mutation_file.xlsx\")"
   ]
  },
  {
   "cell_type": "code",
   "execution_count": null,
   "metadata": {},
   "outputs": [],
   "source": [
    "import Addexperiment\n",
    "Addexperiment.get_data_and_add_experiment(\"test/Hickman2017meta.xlsx\")"
   ]
  },
  {
   "cell_type": "code",
   "execution_count": 1,
   "metadata": {},
   "outputs": [],
   "source": [
    "import Addexperiment\n",
    "Addexperiment.remove_experiment(764)"
   ]
  },
  {
   "cell_type": "code",
   "execution_count": 2,
   "metadata": {
    "tags": []
   },
   "outputs": [
    {
     "output_type": "stream",
     "name": "stdout",
     "text": [
      "> \u001b[0;32m/Users/michaelneilson/Documents/School - Masters 3/Thesis/CAMEL-database-2021/Addexperiment.py\u001b[0m(153)\u001b[0;36mget_data_and_add_experiment\u001b[0;34m()\u001b[0m\n",
      "\u001b[0;32m    151 \u001b[0;31m    \u001b[0;31m# import pdb; pdb.set_trace()\u001b[0m\u001b[0;34m\u001b[0m\u001b[0;34m\u001b[0m\u001b[0;34m\u001b[0m\u001b[0m\n",
      "\u001b[0m\u001b[0;32m    152 \u001b[0;31m    \u001b[0;32mimport\u001b[0m \u001b[0mpdb\u001b[0m\u001b[0;34m;\u001b[0m \u001b[0mpdb\u001b[0m\u001b[0;34m.\u001b[0m\u001b[0mset_trace\u001b[0m\u001b[0;34m(\u001b[0m\u001b[0;34m)\u001b[0m\u001b[0;34m\u001b[0m\u001b[0;34m\u001b[0m\u001b[0m\n",
      "\u001b[0m\u001b[0;32m--> 153 \u001b[0;31m    \u001b[0manswer\u001b[0m \u001b[0;34m=\u001b[0m \u001b[0mreq\u001b[0m\u001b[0;34m.\u001b[0m\u001b[0mpost\u001b[0m\u001b[0;34m(\u001b[0m\u001b[0mexp_url\u001b[0m\u001b[0;34m,\u001b[0m \u001b[0mheaders\u001b[0m\u001b[0;34m=\u001b[0m\u001b[0mauth_header\u001b[0m\u001b[0;34m,\u001b[0m \u001b[0mjson\u001b[0m\u001b[0;34m=\u001b[0m\u001b[0mnew_experiment\u001b[0m\u001b[0;34m)\u001b[0m\u001b[0;34m.\u001b[0m\u001b[0mjson\u001b[0m\u001b[0;34m(\u001b[0m\u001b[0;34m)\u001b[0m\u001b[0;34m\u001b[0m\u001b[0;34m\u001b[0m\u001b[0m\n",
      "\u001b[0m\u001b[0;32m    154 \u001b[0;31m    \u001b[0mexp_id\u001b[0m \u001b[0;34m=\u001b[0m \u001b[0manswer\u001b[0m\u001b[0;34m[\u001b[0m\u001b[0;34m'id'\u001b[0m\u001b[0;34m]\u001b[0m\u001b[0;34m\u001b[0m\u001b[0;34m\u001b[0m\u001b[0m\n",
      "\u001b[0m\u001b[0;32m    155 \u001b[0;31m    \u001b[0madded_exp_url\u001b[0m \u001b[0;34m=\u001b[0m \u001b[0mexp_url\u001b[0m \u001b[0;34m+\u001b[0m \u001b[0;34m\"/\"\u001b[0m \u001b[0;34m+\u001b[0m \u001b[0mstr\u001b[0m\u001b[0;34m(\u001b[0m\u001b[0mexp_id\u001b[0m\u001b[0;34m)\u001b[0m\u001b[0;34m\u001b[0m\u001b[0;34m\u001b[0m\u001b[0m\n",
      "\u001b[0m\n",
      "> \u001b[0;32m/Users/michaelneilson/Documents/School - Masters 3/Thesis/CAMEL-database-2021/Addexperiment.py\u001b[0m(154)\u001b[0;36mget_data_and_add_experiment\u001b[0;34m()\u001b[0m\n",
      "\u001b[0;32m    152 \u001b[0;31m    \u001b[0;32mimport\u001b[0m \u001b[0mpdb\u001b[0m\u001b[0;34m;\u001b[0m \u001b[0mpdb\u001b[0m\u001b[0;34m.\u001b[0m\u001b[0mset_trace\u001b[0m\u001b[0;34m(\u001b[0m\u001b[0;34m)\u001b[0m\u001b[0;34m\u001b[0m\u001b[0;34m\u001b[0m\u001b[0m\n",
      "\u001b[0m\u001b[0;32m    153 \u001b[0;31m    \u001b[0manswer\u001b[0m \u001b[0;34m=\u001b[0m \u001b[0mreq\u001b[0m\u001b[0;34m.\u001b[0m\u001b[0mpost\u001b[0m\u001b[0;34m(\u001b[0m\u001b[0mexp_url\u001b[0m\u001b[0;34m,\u001b[0m \u001b[0mheaders\u001b[0m\u001b[0;34m=\u001b[0m\u001b[0mauth_header\u001b[0m\u001b[0;34m,\u001b[0m \u001b[0mjson\u001b[0m\u001b[0;34m=\u001b[0m\u001b[0mnew_experiment\u001b[0m\u001b[0;34m)\u001b[0m\u001b[0;34m.\u001b[0m\u001b[0mjson\u001b[0m\u001b[0;34m(\u001b[0m\u001b[0;34m)\u001b[0m\u001b[0;34m\u001b[0m\u001b[0;34m\u001b[0m\u001b[0m\n",
      "\u001b[0m\u001b[0;32m--> 154 \u001b[0;31m    \u001b[0mexp_id\u001b[0m \u001b[0;34m=\u001b[0m \u001b[0manswer\u001b[0m\u001b[0;34m[\u001b[0m\u001b[0;34m'id'\u001b[0m\u001b[0;34m]\u001b[0m\u001b[0;34m\u001b[0m\u001b[0;34m\u001b[0m\u001b[0m\n",
      "\u001b[0m\u001b[0;32m    155 \u001b[0;31m    \u001b[0madded_exp_url\u001b[0m \u001b[0;34m=\u001b[0m \u001b[0mexp_url\u001b[0m \u001b[0;34m+\u001b[0m \u001b[0;34m\"/\"\u001b[0m \u001b[0;34m+\u001b[0m \u001b[0mstr\u001b[0m\u001b[0;34m(\u001b[0m\u001b[0mexp_id\u001b[0m\u001b[0;34m)\u001b[0m\u001b[0;34m\u001b[0m\u001b[0;34m\u001b[0m\u001b[0m\n",
      "\u001b[0m\u001b[0;32m    156 \u001b[0;31m\u001b[0;34m\u001b[0m\u001b[0m\n",
      "\u001b[0m\n",
      "> \u001b[0;32m/Users/michaelneilson/Documents/School - Masters 3/Thesis/CAMEL-database-2021/Addexperiment.py\u001b[0m(155)\u001b[0;36mget_data_and_add_experiment\u001b[0;34m()\u001b[0m\n",
      "\u001b[0;32m    153 \u001b[0;31m    \u001b[0manswer\u001b[0m \u001b[0;34m=\u001b[0m \u001b[0mreq\u001b[0m\u001b[0;34m.\u001b[0m\u001b[0mpost\u001b[0m\u001b[0;34m(\u001b[0m\u001b[0mexp_url\u001b[0m\u001b[0;34m,\u001b[0m \u001b[0mheaders\u001b[0m\u001b[0;34m=\u001b[0m\u001b[0mauth_header\u001b[0m\u001b[0;34m,\u001b[0m \u001b[0mjson\u001b[0m\u001b[0;34m=\u001b[0m\u001b[0mnew_experiment\u001b[0m\u001b[0;34m)\u001b[0m\u001b[0;34m.\u001b[0m\u001b[0mjson\u001b[0m\u001b[0;34m(\u001b[0m\u001b[0;34m)\u001b[0m\u001b[0;34m\u001b[0m\u001b[0;34m\u001b[0m\u001b[0m\n",
      "\u001b[0m\u001b[0;32m    154 \u001b[0;31m    \u001b[0mexp_id\u001b[0m \u001b[0;34m=\u001b[0m \u001b[0manswer\u001b[0m\u001b[0;34m[\u001b[0m\u001b[0;34m'id'\u001b[0m\u001b[0;34m]\u001b[0m\u001b[0;34m\u001b[0m\u001b[0;34m\u001b[0m\u001b[0m\n",
      "\u001b[0m\u001b[0;32m--> 155 \u001b[0;31m    \u001b[0madded_exp_url\u001b[0m \u001b[0;34m=\u001b[0m \u001b[0mexp_url\u001b[0m \u001b[0;34m+\u001b[0m \u001b[0;34m\"/\"\u001b[0m \u001b[0;34m+\u001b[0m \u001b[0mstr\u001b[0m\u001b[0;34m(\u001b[0m\u001b[0mexp_id\u001b[0m\u001b[0;34m)\u001b[0m\u001b[0;34m\u001b[0m\u001b[0;34m\u001b[0m\u001b[0m\n",
      "\u001b[0m\u001b[0;32m    156 \u001b[0;31m\u001b[0;34m\u001b[0m\u001b[0m\n",
      "\u001b[0m\u001b[0;32m    157 \u001b[0;31m    \u001b[0;31m# we check to see if there is a mutation file attached so we can upload it after the experiment is added, file needs\u001b[0m\u001b[0;34m\u001b[0m\u001b[0;34m\u001b[0m\u001b[0;34m\u001b[0m\u001b[0m\n",
      "\u001b[0m\n",
      "> \u001b[0;32m/Users/michaelneilson/Documents/School - Masters 3/Thesis/CAMEL-database-2021/Addexperiment.py\u001b[0m(187)\u001b[0;36mget_data_and_add_experiment\u001b[0;34m()\u001b[0m\n",
      "\u001b[0;32m    185 \u001b[0;31m    \u001b[0;31m# the standard most popular strain for both\u001b[0m\u001b[0;34m\u001b[0m\u001b[0;34m\u001b[0m\u001b[0;34m\u001b[0m\u001b[0m\n",
      "\u001b[0m\u001b[0;32m    186 \u001b[0;31m    \u001b[0;31m# First we have to check the species(starting with just E. Coli)\u001b[0m\u001b[0;34m\u001b[0m\u001b[0;34m\u001b[0m\u001b[0;34m\u001b[0m\u001b[0m\n",
      "\u001b[0m\u001b[0;32m--> 187 \u001b[0;31m    \u001b[0;32mif\u001b[0m \u001b[0mval\u001b[0m\u001b[0;34m[\u001b[0m\u001b[0;36m1\u001b[0m\u001b[0;34m]\u001b[0m \u001b[0;34m==\u001b[0m \u001b[0;34m\"Escherichia coli\"\u001b[0m \u001b[0;32mand\u001b[0m \u001b[0mmutfile\u001b[0m \u001b[0;34m!=\u001b[0m \u001b[0;34m\"\"\u001b[0m\u001b[0;34m:\u001b[0m\u001b[0;34m\u001b[0m\u001b[0;34m\u001b[0m\u001b[0m\n",
      "\u001b[0m\u001b[0;32m    188 \u001b[0;31m        \u001b[0mmut_df\u001b[0m \u001b[0;34m=\u001b[0m \u001b[0mpd\u001b[0m\u001b[0;34m.\u001b[0m\u001b[0mread_excel\u001b[0m\u001b[0;34m(\u001b[0m\u001b[0mmutfile\u001b[0m\u001b[0;34m,\u001b[0m \u001b[0msheet_name\u001b[0m\u001b[0;34m=\u001b[0m\u001b[0;34m'Data'\u001b[0m\u001b[0;34m,\u001b[0m \u001b[0mheader\u001b[0m\u001b[0;34m=\u001b[0m\u001b[0;36m4\u001b[0m\u001b[0;34m,\u001b[0m \u001b[0mkeep_default_na\u001b[0m\u001b[0;34m=\u001b[0m\u001b[0;32mFalse\u001b[0m\u001b[0;34m)\u001b[0m\u001b[0;34m\u001b[0m\u001b[0;34m\u001b[0m\u001b[0m\n",
      "\u001b[0m\u001b[0;32m    189 \u001b[0;31m        \u001b[0mmut_func_file\u001b[0m \u001b[0;34m=\u001b[0m \u001b[0mrunmutfunc\u001b[0m\u001b[0;34m(\u001b[0m\u001b[0mmutfile\u001b[0m\u001b[0;34m)\u001b[0m\u001b[0;34m\u001b[0m\u001b[0;34m\u001b[0m\u001b[0m\n",
      "\u001b[0m\n",
      "> \u001b[0;32m/Users/michaelneilson/Documents/School - Masters 3/Thesis/CAMEL-database-2021/Addexperiment.py\u001b[0m(188)\u001b[0;36mget_data_and_add_experiment\u001b[0;34m()\u001b[0m\n",
      "\u001b[0;32m    186 \u001b[0;31m    \u001b[0;31m# First we have to check the species(starting with just E. Coli)\u001b[0m\u001b[0;34m\u001b[0m\u001b[0;34m\u001b[0m\u001b[0;34m\u001b[0m\u001b[0m\n",
      "\u001b[0m\u001b[0;32m    187 \u001b[0;31m    \u001b[0;32mif\u001b[0m \u001b[0mval\u001b[0m\u001b[0;34m[\u001b[0m\u001b[0;36m1\u001b[0m\u001b[0;34m]\u001b[0m \u001b[0;34m==\u001b[0m \u001b[0;34m\"Escherichia coli\"\u001b[0m \u001b[0;32mand\u001b[0m \u001b[0mmutfile\u001b[0m \u001b[0;34m!=\u001b[0m \u001b[0;34m\"\"\u001b[0m\u001b[0;34m:\u001b[0m\u001b[0;34m\u001b[0m\u001b[0;34m\u001b[0m\u001b[0m\n",
      "\u001b[0m\u001b[0;32m--> 188 \u001b[0;31m        \u001b[0mmut_df\u001b[0m \u001b[0;34m=\u001b[0m \u001b[0mpd\u001b[0m\u001b[0;34m.\u001b[0m\u001b[0mread_excel\u001b[0m\u001b[0;34m(\u001b[0m\u001b[0mmutfile\u001b[0m\u001b[0;34m,\u001b[0m \u001b[0msheet_name\u001b[0m\u001b[0;34m=\u001b[0m\u001b[0;34m'Data'\u001b[0m\u001b[0;34m,\u001b[0m \u001b[0mheader\u001b[0m\u001b[0;34m=\u001b[0m\u001b[0;36m4\u001b[0m\u001b[0;34m,\u001b[0m \u001b[0mkeep_default_na\u001b[0m\u001b[0;34m=\u001b[0m\u001b[0;32mFalse\u001b[0m\u001b[0;34m)\u001b[0m\u001b[0;34m\u001b[0m\u001b[0;34m\u001b[0m\u001b[0m\n",
      "\u001b[0m\u001b[0;32m    189 \u001b[0;31m        \u001b[0mmut_func_file\u001b[0m \u001b[0;34m=\u001b[0m \u001b[0mrunmutfunc\u001b[0m\u001b[0;34m(\u001b[0m\u001b[0mmutfile\u001b[0m\u001b[0;34m)\u001b[0m\u001b[0;34m\u001b[0m\u001b[0;34m\u001b[0m\u001b[0m\n",
      "\u001b[0m\u001b[0;32m    190 \u001b[0;31m        \u001b[0;31m# Update our mutation excel file with the Mutfunc results and return it as a new file with appropriately\u001b[0m\u001b[0;34m\u001b[0m\u001b[0;34m\u001b[0m\u001b[0;34m\u001b[0m\u001b[0m\n",
      "\u001b[0m\n",
      "> \u001b[0;32m/Users/michaelneilson/Documents/School - Masters 3/Thesis/CAMEL-database-2021/Addexperiment.py\u001b[0m(189)\u001b[0;36mget_data_and_add_experiment\u001b[0;34m()\u001b[0m\n",
      "\u001b[0;32m    187 \u001b[0;31m    \u001b[0;32mif\u001b[0m \u001b[0mval\u001b[0m\u001b[0;34m[\u001b[0m\u001b[0;36m1\u001b[0m\u001b[0;34m]\u001b[0m \u001b[0;34m==\u001b[0m \u001b[0;34m\"Escherichia coli\"\u001b[0m \u001b[0;32mand\u001b[0m \u001b[0mmutfile\u001b[0m \u001b[0;34m!=\u001b[0m \u001b[0;34m\"\"\u001b[0m\u001b[0;34m:\u001b[0m\u001b[0;34m\u001b[0m\u001b[0;34m\u001b[0m\u001b[0m\n",
      "\u001b[0m\u001b[0;32m    188 \u001b[0;31m        \u001b[0mmut_df\u001b[0m \u001b[0;34m=\u001b[0m \u001b[0mpd\u001b[0m\u001b[0;34m.\u001b[0m\u001b[0mread_excel\u001b[0m\u001b[0;34m(\u001b[0m\u001b[0mmutfile\u001b[0m\u001b[0;34m,\u001b[0m \u001b[0msheet_name\u001b[0m\u001b[0;34m=\u001b[0m\u001b[0;34m'Data'\u001b[0m\u001b[0;34m,\u001b[0m \u001b[0mheader\u001b[0m\u001b[0;34m=\u001b[0m\u001b[0;36m4\u001b[0m\u001b[0;34m,\u001b[0m \u001b[0mkeep_default_na\u001b[0m\u001b[0;34m=\u001b[0m\u001b[0;32mFalse\u001b[0m\u001b[0;34m)\u001b[0m\u001b[0;34m\u001b[0m\u001b[0;34m\u001b[0m\u001b[0m\n",
      "\u001b[0m\u001b[0;32m--> 189 \u001b[0;31m        \u001b[0mmut_func_file\u001b[0m \u001b[0;34m=\u001b[0m \u001b[0mrunmutfunc\u001b[0m\u001b[0;34m(\u001b[0m\u001b[0mmutfile\u001b[0m\u001b[0;34m)\u001b[0m\u001b[0;34m\u001b[0m\u001b[0;34m\u001b[0m\u001b[0m\n",
      "\u001b[0m\u001b[0;32m    190 \u001b[0;31m        \u001b[0;31m# Update our mutation excel file with the Mutfunc results and return it as a new file with appropriately\u001b[0m\u001b[0;34m\u001b[0m\u001b[0;34m\u001b[0m\u001b[0;34m\u001b[0m\u001b[0m\n",
      "\u001b[0m\u001b[0;32m    191 \u001b[0;31m        \u001b[0;31m# detailed headers\u001b[0m\u001b[0;34m\u001b[0m\u001b[0;34m\u001b[0m\u001b[0;34m\u001b[0m\u001b[0m\n",
      "\u001b[0m\n"
     ]
    }
   ],
   "source": [
    "import Addexperiment\n",
    "Addexperiment.get_data_and_add_experiment(\"test/Hickman2017meta.xlsx\",\"test/Hickman2017mut.xlsx\")"
   ]
  },
  {
   "cell_type": "code",
   "execution_count": 1,
   "metadata": {},
   "outputs": [],
   "source": [
    "import mutfunc_functionality\n",
    "mutfunc = mutfunc_functionality.runmutfunc(\"test/Hickman2017mut.xlsx\")"
   ]
  },
  {
   "cell_type": "code",
   "execution_count": 7,
   "metadata": {},
   "outputs": [],
   "source": [
    "mutfunc.to_csv(\"test/mutfunc_output_raw.csv\", index=False)"
   ]
  },
  {
   "cell_type": "code",
   "execution_count": 1,
   "metadata": {},
   "outputs": [
    {
     "output_type": "stream",
     "name": "stdout",
     "text": [
      "> \u001b[0;32m/Users/michaelneilson/Documents/School - Masters 3/Thesis/CAMEL-database-2021/Mechismo_functionality.py\u001b[0m(17)\u001b[0;36m_format_SNP_list\u001b[0;34m()\u001b[0m\n",
      "\u001b[0;32m     15 \u001b[0;31m    \u001b[0;32mimport\u001b[0m \u001b[0mpdb\u001b[0m\u001b[0;34m;\u001b[0m \u001b[0mpdb\u001b[0m\u001b[0;34m.\u001b[0m\u001b[0mset_trace\u001b[0m\u001b[0;34m(\u001b[0m\u001b[0;34m)\u001b[0m\u001b[0;34m\u001b[0m\u001b[0;34m\u001b[0m\u001b[0m\n",
      "\u001b[0m\u001b[0;32m     16 \u001b[0;31m\u001b[0;34m\u001b[0m\u001b[0m\n",
      "\u001b[0m\u001b[0;32m---> 17 \u001b[0;31m    \u001b[0;32mreturn\u001b[0m \u001b[0mSNP_list\u001b[0m\u001b[0;34m\u001b[0m\u001b[0;34m\u001b[0m\u001b[0m\n",
      "\u001b[0m\u001b[0;32m     18 \u001b[0;31m\u001b[0;34m\u001b[0m\u001b[0m\n",
      "\u001b[0m\u001b[0;32m     19 \u001b[0;31m\u001b[0;31m# Mechismo works with SNPs or with PTMs so we take only the SNPs in our mutations\u001b[0m\u001b[0;34m\u001b[0m\u001b[0;34m\u001b[0m\u001b[0;34m\u001b[0m\u001b[0m\n",
      "\u001b[0m\n",
      "            SNPs\n",
      "1     fusA/T168P\n",
      "2     sbmA/G206V\n",
      "3     sbmA/F684C\n",
      "5     fusA/T171P\n",
      "7     fusA/M205L\n",
      "...          ...\n",
      "3318            \n",
      "3320            \n",
      "3321            \n",
      "3370            \n",
      "3415            \n",
      "\n",
      "[471 rows x 1 columns]\n"
     ]
    }
   ],
   "source": [
    "import Mechismo_functionality\n",
    "import mutfunc_functionality\n",
    "import pandas as pd\n",
    "mechismo = Mechismo_functionality.run_mechismo(\"test/Hickman2017mut.xlsx\")"
   ]
  },
  {
   "cell_type": "code",
   "execution_count": 2,
   "metadata": {},
   "outputs": [
    {
     "output_type": "error",
     "ename": "NameError",
     "evalue": "name 'mechismo' is not defined",
     "traceback": [
      "\u001b[0;31m---------------------------------------------------------------------------\u001b[0m",
      "\u001b[0;31mNameError\u001b[0m                                 Traceback (most recent call last)",
      "\u001b[0;32m<ipython-input-2-2e834211e5a2>\u001b[0m in \u001b[0;36m<module>\u001b[0;34m\u001b[0m\n\u001b[0;32m----> 1\u001b[0;31m \u001b[0mSNP_list\u001b[0m \u001b[0;34m=\u001b[0m \u001b[0mmechismo\u001b[0m\u001b[0;34m\u001b[0m\u001b[0;34m\u001b[0m\u001b[0m\n\u001b[0m\u001b[1;32m      2\u001b[0m \u001b[0mSNP_list\u001b[0m\u001b[0;34m[\u001b[0m\u001b[0;34m[\u001b[0m\u001b[0;34m'gene'\u001b[0m\u001b[0;34m,\u001b[0m \u001b[0;34m'aa'\u001b[0m\u001b[0;34m,\u001b[0m \u001b[0;34m'pos'\u001b[0m\u001b[0;34m]\u001b[0m\u001b[0;34m]\u001b[0m \u001b[0;34m=\u001b[0m \u001b[0mSNP_list\u001b[0m\u001b[0;34m[\u001b[0m\u001b[0;34m'SNPs'\u001b[0m\u001b[0;34m]\u001b[0m\u001b[0;34m.\u001b[0m\u001b[0mstr\u001b[0m\u001b[0;34m.\u001b[0m\u001b[0msplit\u001b[0m\u001b[0;34m(\u001b[0m\u001b[0;34m' '\u001b[0m\u001b[0;34m,\u001b[0m\u001b[0mexpand\u001b[0m\u001b[0;34m=\u001b[0m\u001b[0;32mTrue\u001b[0m\u001b[0;34m)\u001b[0m\u001b[0;34m\u001b[0m\u001b[0;34m\u001b[0m\u001b[0m\n\u001b[1;32m      3\u001b[0m \u001b[0mmutfunc_functionality\u001b[0m\u001b[0;34m.\u001b[0m\u001b[0mconvert_aa_column_3to1letter\u001b[0m\u001b[0;34m(\u001b[0m\u001b[0mSNP_list\u001b[0m\u001b[0;34m,\u001b[0m \u001b[0mcolumn\u001b[0m\u001b[0;34m=\u001b[0m\u001b[0;34m'aa'\u001b[0m\u001b[0;34m)\u001b[0m\u001b[0;34m\u001b[0m\u001b[0;34m\u001b[0m\u001b[0m\n\u001b[1;32m      4\u001b[0m \u001b[0mSNP_list\u001b[0m\u001b[0;34m[\u001b[0m\u001b[0;34m'gene'\u001b[0m\u001b[0;34m]\u001b[0m \u001b[0;34m+\u001b[0m \u001b[0;34m\"/\"\u001b[0m \u001b[0;34m+\u001b[0m \u001b[0mSNP_list\u001b[0m\u001b[0;34m[\u001b[0m\u001b[0;34m'single_letter_reference'\u001b[0m\u001b[0;34m]\u001b[0m \u001b[0;34m+\u001b[0m \u001b[0mSNP_list\u001b[0m\u001b[0;34m[\u001b[0m\u001b[0;34m'single_letter_position'\u001b[0m\u001b[0;34m]\u001b[0m \u001b[0;34m+\u001b[0m \u001b[0mSNP_list\u001b[0m\u001b[0;34m[\u001b[0m\u001b[0;34m'single_letter_mutant'\u001b[0m\u001b[0;34m]\u001b[0m\u001b[0;34m\u001b[0m\u001b[0;34m\u001b[0m\u001b[0m\n",
      "\u001b[0;31mNameError\u001b[0m: name 'mechismo' is not defined"
     ]
    }
   ],
   "source": [
    "SNP_list = mechismo\n",
    "SNP_list[['gene', 'aa', 'pos']] = SNP_list['SNPs'].str.split(' ',expand=True)\n",
    "mutfunc_functionality.convert_aa_column_3to1letter(SNP_list, column='aa')\n",
    "SNP_list['gene'] + \"/\" + SNP_list['single_letter_reference'] + SNP_list['single_letter_position'] + SNP_list['single_letter_mutant']"
   ]
  },
  {
   "cell_type": "code",
   "execution_count": 15,
   "metadata": {},
   "outputs": [],
   "source": []
  },
  {
   "cell_type": "code",
   "execution_count": null,
   "metadata": {},
   "outputs": [],
   "source": []
  },
  {
   "cell_type": "code",
   "execution_count": 27,
   "metadata": {},
   "outputs": [
    {
     "output_type": "execute_result",
     "data": {
      "text/plain": [
       "'0\\nfusA/T168P\\nsbmA/G206V\\nsbmA/F684C\\nfusA/T171P\\nfusA/M205L\\ncpxA/L243M\\nfusA/E193D\\nsbmA/S251A\\nfusA/F373C\\nsbmA/A79V\\nsbmA/S175C\\ncpxA/P610Q\\ncpxA/D31Y\\ncpxA/A608V\\ncpxA/T207P\\ncpxA/K4N\\nfusA/F52L\\nfusA/D18E\\nfusA/E200D\\ncpxA/E150A\\nfusA/T213A\\nfusA/E11A\\nfusA/A156S\\nfusA/M236L\\nsbmA/E152\\nfusA/D151E\\nsbmA/L198S\\nsbmA/L139V\\nsbmA/A18S\\nfusA/Q110\\nsbmA/V17M\\ncpxA/T12A\\ncpxA/W50R\\nfusA/A146S\\nacrR/H112N\\nacrR/L119M\\nacrR/L127M\\nacrR/P90T\\nacrR/R51H\\nacrR/G145C\\nacrR/D137E\\nacrR/L208R\\nacrR/G40C\\nacrR/S60R\\nacrR/R156P\\nacrR/D192A\\nacrR/Q162P\\nacrR/G104D\\nacrR/E158D\\nacrR/E8D\\nacrR/S128N\\nacrR/T13P\\nacrR/H157P\\nacrR/L123\\nacrR/L253R\\nacrR/P172L\\nacrR/K61T\\nacrR/T234N\\nacrR/T254K\\nacrR/V84A\\nacrR/Y244\\nacrR/V84G\\nacrR/R127C\\nacrR/L109V\\nacrR/A38S\\nacrR/A47S\\nacrR/D18Y\\nacrR/Q14K\\nacrR/E11\\nacrR/E36\\nacrR/E36D\\nacrR/G28W\\nacrR/G28V\\nacrR/G35C\\nacrR/G46C\\nacrR/L23I\\nacrR/S25\\nacrR/S30\\nacrR/S33\\nacrR/A105E\\nacrR/A171E\\nacrR/A106E\\nacrR/R156S\\nacrR/R94S\\nacrR/D154Y\\nacrR/D166Y\\nacrR/D191Y\\nacrR/D208Y\\nacrR/Q162K\\nacrR/Q188H\\nacrR/R55L\\nacrR/D114Y\\nacrR/Q188K\\nacrR/Q117H\\nacrR/Q206H\\nacrR/Q237H\\nacrR/D129Y\\nacrR/Q237K\\nacrR/E158\\nacrR/E85\\nacrR/G103C\\nacrR/E193\\nacrR/G104C\\nacrR/G82C\\nacrR/P249Q\\nsoxR/D87G\\nacrR/V57G\\n\"\"\\n\"\"\\n\"\"\\n\"\"\\n\"\"\\n\"\"\\n\"\"\\n\"\"\\n\"\"\\n\"\"\\n\"\"\\n\"\"\\n\"\"\\n\"\"\\n\"\"\\n\"\"\\n\"\"\\n\"\"\\n\"\"\\n\"\"\\n\"\"\\n\"\"\\n\"\"\\n\"\"\\n\"\"\\n\"\"\\n\"\"\\n\"\"\\n\"\"\\n\"\"\\n\"\"\\n\"\"\\n\"\"\\n\"\"\\n\"\"\\n\"\"\\n\"\"\\n\"\"\\n\"\"\\n\"\"\\n\"\"\\n\"\"\\n\"\"\\n\"\"\\n\"\"\\n\"\"\\n\"\"\\n\"\"\\n\"\"\\n\"\"\\n\"\"\\n\"\"\\n\"\"\\n\"\"\\n\"\"\\n\"\"\\n\"\"\\n\"\"\\n\"\"\\n\"\"\\n\"\"\\n\"\"\\n\"\"\\n\"\"\\n\"\"\\n\"\"\\n\"\"\\n\"\"\\n\"\"\\n\"\"\\n\"\"\\n\"\"\\n\"\"\\n\"\"\\n\"\"\\n\"\"\\n\"\"\\n\"\"\\n\"\"\\n\"\"\\n\"\"\\n\"\"\\n\"\"\\n\"\"\\n\"\"\\n\"\"\\n\"\"\\n\"\"\\n\"\"\\n\"\"\\n\"\"\\n\"\"\\n\"\"\\n\"\"\\n\"\"\\n\"\"\\n\"\"\\n\"\"\\n\"\"\\n\"\"\\n\"\"\\n\"\"\\n\"\"\\n\"\"\\n\"\"\\n\"\"\\n\"\"\\n\"\"\\n\"\"\\n\"\"\\n\"\"\\n\"\"\\n\"\"\\n\"\"\\n\"\"\\n\"\"\\n\"\"\\n\"\"\\n\"\"\\n\"\"\\n\"\"\\n\"\"\\n\"\"\\n\"\"\\n\"\"\\n\"\"\\n\"\"\\n\"\"\\n\"\"\\n\"\"\\n\"\"\\n\"\"\\n\"\"\\n\"\"\\n\"\"\\n\"\"\\n\"\"\\n\"\"\\n\"\"\\n\"\"\\n\"\"\\n\"\"\\n\"\"\\n\"\"\\n\"\"\\n\"\"\\n\"\"\\n\"\"\\n\"\"\\n\"\"\\n\"\"\\n\"\"\\n\"\"\\n\"\"\\n\"\"\\n\"\"\\n\"\"\\n\"\"\\n\"\"\\n\"\"\\n\"\"\\n\"\"\\n\"\"\\n\"\"\\n\"\"\\n\"\"\\n\"\"\\n\"\"\\n\"\"\\n\"\"\\n\"\"\\n\"\"\\n\"\"\\n\"\"\\n\"\"\\n\"\"\\n\"\"\\n\"\"\\n\"\"\\n\"\"\\n\"\"\\n\"\"\\n\"\"\\n\"\"\\n\"\"\\n\"\"\\n\"\"\\n\"\"\\n\"\"\\n\"\"\\n\"\"\\n\"\"\\n\"\"\\n\"\"\\n\"\"\\n\"\"\\n\"\"\\n\"\"\\n\"\"\\n\"\"\\n\"\"\\n\"\"\\n\"\"\\n\"\"\\n\"\"\\n\"\"\\n\"\"\\n\"\"\\n\"\"\\n\"\"\\n\"\"\\n\"\"\\n\"\"\\n\"\"\\n\"\"\\n\"\"\\n\"\"\\n\"\"\\n\"\"\\n\"\"\\n\"\"\\n\"\"\\n\"\"\\n\"\"\\n\"\"\\n\"\"\\n\"\"\\n\"\"\\n\"\"\\n\"\"\\n\"\"\\n\"\"\\n\"\"\\n\"\"\\n\"\"\\n\"\"\\n\"\"\\n\"\"\\n\"\"\\n\"\"\\n\"\"\\n\"\"\\n\"\"\\n\"\"\\n\"\"\\n\"\"\\n\"\"\\n\"\"\\n\"\"\\n\"\"\\n\"\"\\n\"\"\\n\"\"\\n\"\"\\n\"\"\\n\"\"\\n\"\"\\n\"\"\\n\"\"\\n\"\"\\n\"\"\\n\"\"\\n\"\"\\n\"\"\\n\"\"\\n\"\"\\n\"\"\\n\"\"\\n\"\"\\n\"\"\\n\"\"\\n\"\"\\n\"\"\\n\"\"\\n\"\"\\n\"\"\\n\"\"\\n\"\"\\n\"\"\\n\"\"\\n\"\"\\n\"\"\\n\"\"\\n\"\"\\n\"\"\\n\"\"\\n\"\"\\n\"\"\\n\"\"\\n\"\"\\n\"\"\\n\"\"\\n\"\"\\n\"\"\\n\"\"\\n\"\"\\n\"\"\\n\"\"\\n\"\"\\n\"\"\\n\"\"\\n\"\"\\n\"\"\\n\"\"\\n\"\"\\n\"\"\\n\"\"\\n\"\"\\n\"\"\\n\"\"\\n\"\"\\n\"\"\\n\"\"\\n\"\"\\n\"\"\\n\"\"\\n\"\"\\n\"\"\\n\"\"\\n\"\"\\n\"\"\\n\"\"\\n\"\"\\n\"\"\\n\"\"\\n\"\"\\n\"\"\\n\"\"\\n\"\"\\n\"\"\\n\"\"\\n\"\"\\n\"\"\\n\"\"\\n\"\"\\n\"\"\\n\"\"\\n\"\"\\n\"\"\\n\"\"\\n\"\"\\n\"\"\\n\"\"\\n\"\"\\n\"\"\\n\"\"\\n\"\"\\n\"\"\\n\"\"\\n\"\"\\n\"\"\\n\"\"\\n\"\"\\n\"\"\\n\"\"\\n\"\"\\n\"\"\\n\"\"\\n\"\"\\n\"\"\\n\"\"\\n\"\"\\n\"\"\\n\"\"\\n'"
      ]
     },
     "metadata": {},
     "execution_count": 27
    }
   ],
   "source": []
  }
 ]
}